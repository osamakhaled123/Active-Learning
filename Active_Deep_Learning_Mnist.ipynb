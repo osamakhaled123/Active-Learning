{
  "nbformat": 4,
  "nbformat_minor": 0,
  "metadata": {
    "colab": {
      "provenance": []
    },
    "kernelspec": {
      "name": "python3",
      "display_name": "Python 3"
    },
    "language_info": {
      "name": "python"
    }
  },
  "cells": [
    {
      "cell_type": "code",
      "source": [
        "!git clone https://github.com/ej0cl6/deep-active-learning.git\n",
        "!cd deep-active-learning"
      ],
      "metadata": {
        "colab": {
          "base_uri": "https://localhost:8080/"
        },
        "id": "XZcpbaXUoGMH",
        "outputId": "3cc9ccb8-22db-40da-d1cc-78266d2f23ba"
      },
      "execution_count": 1,
      "outputs": [
        {
          "output_type": "stream",
          "name": "stdout",
          "text": [
            "Cloning into 'deep-active-learning'...\n",
            "remote: Enumerating objects: 232, done.\u001b[K\n",
            "remote: Total 232 (delta 0), reused 0 (delta 0), pack-reused 232\u001b[K\n",
            "Receiving objects: 100% (232/232), 44.12 KiB | 740.00 KiB/s, done.\n",
            "Resolving deltas: 100% (141/141), done.\n"
          ]
        }
      ]
    },
    {
      "cell_type": "code",
      "source": [
        "import sys\n",
        "sys.path.append('/content/deep-active-learning')\n",
        "sys.path.append('/content/deep-active-learning/query_strategies')"
      ],
      "metadata": {
        "id": "SrhiRLy4rFYz"
      },
      "execution_count": 2,
      "outputs": []
    },
    {
      "cell_type": "code",
      "source": [
        "import argparse\n",
        "import numpy as np\n",
        "import torch\n",
        "from utils import get_dataset, get_net, get_strategy\n",
        "from pprint import pprint\n",
        "from torchvision import datasets\n",
        "import matplotlib.pyplot as plt"
      ],
      "metadata": {
        "id": "LRkYJwTNrGrd"
      },
      "execution_count": 3,
      "outputs": []
    },
    {
      "cell_type": "code",
      "source": [
        "use_cuda = torch.cuda.is_available()\n",
        "device = torch.device(\"cuda\" if use_cuda else \"cpu\")"
      ],
      "metadata": {
        "id": "cDWtltOKrHuk"
      },
      "execution_count": 4,
      "outputs": []
    },
    {
      "cell_type": "code",
      "source": [
        "dataset = get_dataset('MNIST')                   # load dataset\n",
        "net = get_net('MNIST', device)                   # load network\n",
        "#strategy = get_strategy('LeastConfidence')(dataset, net)"
      ],
      "metadata": {
        "id": "zmX_kbvbrIsZ"
      },
      "execution_count": 11,
      "outputs": []
    },
    {
      "cell_type": "code",
      "source": [
        "np.unique(dataset.Y_train, return_counts = True)"
      ],
      "metadata": {
        "colab": {
          "base_uri": "https://localhost:8080/"
        },
        "id": "Qems1HZhrWT3",
        "outputId": "45f8413e-0138-4411-f1fd-fe8353cb0bfa"
      },
      "execution_count": 12,
      "outputs": [
        {
          "output_type": "execute_result",
          "data": {
            "text/plain": [
              "(array([0, 1, 2, 3, 4, 5, 6, 7, 8, 9]),\n",
              " array([3924, 4563, 3943, 4081, 3909, 3604, 3975, 4125, 3860, 4016]))"
            ]
          },
          "metadata": {},
          "execution_count": 12
        }
      ]
    },
    {
      "cell_type": "code",
      "source": [
        "dataset.X_train.shape ,dataset.Y_train.shape"
      ],
      "metadata": {
        "colab": {
          "base_uri": "https://localhost:8080/"
        },
        "id": "lFXc_pWjrZyM",
        "outputId": "8a86448f-00dd-4893-e053-d361277fb891"
      },
      "execution_count": 13,
      "outputs": [
        {
          "output_type": "execute_result",
          "data": {
            "text/plain": [
              "(torch.Size([40000, 28, 28]), torch.Size([40000]))"
            ]
          },
          "metadata": {},
          "execution_count": 13
        }
      ]
    },
    {
      "cell_type": "code",
      "source": [
        "plt.hist(dataset.Y_train);"
      ],
      "metadata": {
        "colab": {
          "base_uri": "https://localhost:8080/",
          "height": 430
        },
        "id": "IenicmzMrgMN",
        "outputId": "f4d244da-7a6b-456d-e803-07d836a21629"
      },
      "execution_count": 14,
      "outputs": [
        {
          "output_type": "display_data",
          "data": {
            "text/plain": [
              "<Figure size 640x480 with 1 Axes>"
            ],
            "image/png": "[encoded data removed]"
          },
          "metadata": {}
        }
      ]
    },
    {
      "cell_type": "code",
      "source": [
        "net.params['n_epoch'] = 10"
      ],
      "metadata": {
        "id": "b48DJFeArnD8"
      },
      "execution_count": 15,
      "outputs": []
    },
    {
      "cell_type": "code",
      "source": [
        "def cal_training_acc(preds):\n",
        "        return 1.0 * (dataset.Y_train==preds).sum().item() / dataset.n_pool"
      ],
      "metadata": {
        "id": "hZ-6Uq5zrq3s"
      },
      "execution_count": 16,
      "outputs": []
    },
    {
      "cell_type": "markdown",
      "source": [
        "##**Uncertainty sampling (Least Confidence) strategy**\n"
      ],
      "metadata": {
        "id": "8Uxj0_uCr2qK"
      }
    },
    {
      "cell_type": "code",
      "source": [
        "strategy = get_strategy('LeastConfidence')(dataset, net)"
      ],
      "metadata": {
        "id": "zGDTwtcVrr_8"
      },
      "execution_count": 17,
      "outputs": []
    },
    {
      "cell_type": "code",
      "source": [
        "# start experiment\n",
        "init = 10000\n",
        "dataset.initialize_labels(init)\n",
        "print(f\"number of labeled pool: {init}\")\n",
        "print(f\"number of unlabeled pool: {dataset.n_pool-init}\")\n",
        "print(f\"number of testing pool: {dataset.n_test}\")\n",
        "print()"
      ],
      "metadata": {
        "colab": {
          "base_uri": "https://localhost:8080/"
        },
        "id": "eMR6ZQqzr42z",
        "outputId": "c15ad400-d641-48e6-e677-8ce043be1d5d"
      },
      "execution_count": 18,
      "outputs": [
        {
          "output_type": "stream",
          "name": "stdout",
          "text": [
            "number of labeled pool: 10000\n",
            "number of unlabeled pool: 30000\n",
            "number of testing pool: 10000\n",
            "\n"
          ]
        }
      ]
    },
    {
      "cell_type": "code",
      "source": [
        "Test_acc_uncertainty_based_Least_Confidence_Sampling = []"
      ],
      "metadata": {
        "id": "qleLJvAqsCvm"
      },
      "execution_count": 19,
      "outputs": []
    },
    {
      "cell_type": "code",
      "source": [
        "# round 1 accuracy\n",
        "print(\"Round 1\")\n",
        "strategy.train()\n",
        "# no. Epoch is 10\n",
        "preds = strategy.predict(dataset.get_train_data()[1])\n",
        "print(f\"Round 1 training accuracy: {cal_training_acc(preds)}\")\n",
        "\n",
        "preds = strategy.predict(dataset.get_test_data())\n",
        "print(f\"Round 1 testing accuracy: {dataset.cal_test_acc(preds)}\")\n",
        "Test_acc_uncertainty_based_Least_Confidence_Sampling.append(dataset.cal_test_acc(preds))"
      ],
      "metadata": {
        "colab": {
          "base_uri": "https://localhost:8080/"
        },
        "id": "Wpjf3jrDsEyM",
        "outputId": "dfbb7e98-97f1-4123-9825-441f466dd7c2"
      },
      "execution_count": 20,
      "outputs": [
        {
          "output_type": "stream",
          "name": "stdout",
          "text": [
            "Round 1\n"
          ]
        },
        {
          "output_type": "stream",
          "name": "stderr",
          "text": [
            "100%|███████████████████████████████████████████████████████████████| 10/10 [00:54<00:00,  5.48s/it]\n"
          ]
        },
        {
          "output_type": "stream",
          "name": "stdout",
          "text": [
            "Round 1 training accuracy: 0.948875\n",
            "Round 1 testing accuracy: 0.9536\n"
          ]
        }
      ]
    },
    {
      "cell_type": "code",
      "source": [
        "for rd in range(2, 16):\n",
        "    print(f\"Round {rd}\")\n",
        "\n",
        "    # query\n",
        "    query_idxs = strategy.query(100)\n",
        "\n",
        "    # update labels\n",
        "    strategy.update(query_idxs)\n",
        "    strategy.train()\n",
        "\n",
        "    # calculate accuracy on test and training\n",
        "    preds = strategy.predict(dataset.get_train_data()[1])\n",
        "    print(f\"Round {rd} training accuracy: {cal_training_acc(preds)}\")\n",
        "\n",
        "    preds = strategy.predict(dataset.get_test_data())\n",
        "    print(f\"Round {rd} testing accuracy: {dataset.cal_test_acc(preds)}\")\n",
        "    Test_acc_uncertainty_based_Least_Confidence_Sampling.append(dataset.cal_test_acc(preds))"
      ],
      "metadata": {
        "colab": {
          "base_uri": "https://localhost:8080/"
        },
        "id": "n7wOWXBfsF-4",
        "outputId": "8a09922c-b9e1-4179-a057-3c8b8d2864bd"
      },
      "execution_count": 21,
      "outputs": [
        {
          "output_type": "stream",
          "name": "stdout",
          "text": [
            "Round 2\n"
          ]
        },
        {
          "output_type": "stream",
          "name": "stderr",
          "text": [
            "100%|███████████████████████████████████████████████████████████████| 10/10 [00:53<00:00,  5.32s/it]\n"
          ]
        },
        {
          "output_type": "stream",
          "name": "stdout",
          "text": [
            "Round 2 training accuracy: 0.951325\n",
            "Round 2 testing accuracy: 0.954\n",
            "Round 3\n"
          ]
        },
        {
          "output_type": "stream",
          "name": "stderr",
          "text": [
            "100%|███████████████████████████████████████████████████████████████| 10/10 [00:58<00:00,  5.85s/it]\n"
          ]
        },
        {
          "output_type": "stream",
          "name": "stdout",
          "text": [
            "Round 3 training accuracy: 0.960675\n",
            "Round 3 testing accuracy: 0.9632\n",
            "Round 4\n"
          ]
        },
        {
          "output_type": "stream",
          "name": "stderr",
          "text": [
            "100%|███████████████████████████████████████████████████████████████| 10/10 [00:53<00:00,  5.30s/it]\n"
          ]
        },
        {
          "output_type": "stream",
          "name": "stdout",
          "text": [
            "Round 4 training accuracy: 0.9607\n",
            "Round 4 testing accuracy: 0.964\n",
            "Round 5\n"
          ]
        },
        {
          "output_type": "stream",
          "name": "stderr",
          "text": [
            "100%|███████████████████████████████████████████████████████████████| 10/10 [00:52<00:00,  5.24s/it]\n"
          ]
        },
        {
          "output_type": "stream",
          "name": "stdout",
          "text": [
            "Round 5 training accuracy: 0.95915\n",
            "Round 5 testing accuracy: 0.9614\n",
            "Round 6\n"
          ]
        },
        {
          "output_type": "stream",
          "name": "stderr",
          "text": [
            "100%|███████████████████████████████████████████████████████████████| 10/10 [00:52<00:00,  5.24s/it]\n"
          ]
        },
        {
          "output_type": "stream",
          "name": "stdout",
          "text": [
            "Round 6 training accuracy: 0.9676\n",
            "Round 6 testing accuracy: 0.9679\n",
            "Round 7\n"
          ]
        },
        {
          "output_type": "stream",
          "name": "stderr",
          "text": [
            "100%|███████████████████████████████████████████████████████████████| 10/10 [00:52<00:00,  5.30s/it]\n"
          ]
        },
        {
          "output_type": "stream",
          "name": "stdout",
          "text": [
            "Round 7 training accuracy: 0.96085\n",
            "Round 7 testing accuracy: 0.9636\n",
            "Round 8\n"
          ]
        },
        {
          "output_type": "stream",
          "name": "stderr",
          "text": [
            "100%|███████████████████████████████████████████████████████████████| 10/10 [00:54<00:00,  5.41s/it]\n"
          ]
        },
        {
          "output_type": "stream",
          "name": "stdout",
          "text": [
            "Round 8 training accuracy: 0.9605\n",
            "Round 8 testing accuracy: 0.96\n",
            "Round 9\n"
          ]
        },
        {
          "output_type": "stream",
          "name": "stderr",
          "text": [
            "100%|███████████████████████████████████████████████████████████████| 10/10 [00:54<00:00,  5.41s/it]\n"
          ]
        },
        {
          "output_type": "stream",
          "name": "stdout",
          "text": [
            "Round 9 training accuracy: 0.96795\n",
            "Round 9 testing accuracy: 0.9674\n",
            "Round 10\n"
          ]
        },
        {
          "output_type": "stream",
          "name": "stderr",
          "text": [
            "100%|███████████████████████████████████████████████████████████████| 10/10 [00:54<00:00,  5.43s/it]\n"
          ]
        },
        {
          "output_type": "stream",
          "name": "stdout",
          "text": [
            "Round 10 training accuracy: 0.964525\n",
            "Round 10 testing accuracy: 0.9661\n",
            "Round 11\n"
          ]
        },
        {
          "output_type": "stream",
          "name": "stderr",
          "text": [
            "100%|███████████████████████████████████████████████████████████████| 10/10 [00:59<00:00,  5.95s/it]\n"
          ]
        },
        {
          "output_type": "stream",
          "name": "stdout",
          "text": [
            "Round 11 training accuracy: 0.9675\n",
            "Round 11 testing accuracy: 0.9674\n",
            "Round 12\n"
          ]
        },
        {
          "output_type": "stream",
          "name": "stderr",
          "text": [
            "100%|███████████████████████████████████████████████████████████████| 10/10 [00:55<00:00,  5.53s/it]\n"
          ]
        },
        {
          "output_type": "stream",
          "name": "stdout",
          "text": [
            "Round 12 training accuracy: 0.968275\n",
            "Round 12 testing accuracy: 0.9701\n",
            "Round 13\n"
          ]
        },
        {
          "output_type": "stream",
          "name": "stderr",
          "text": [
            "100%|███████████████████████████████████████████████████████████████| 10/10 [00:56<00:00,  5.67s/it]\n"
          ]
        },
        {
          "output_type": "stream",
          "name": "stdout",
          "text": [
            "Round 13 training accuracy: 0.96485\n",
            "Round 13 testing accuracy: 0.966\n",
            "Round 14\n"
          ]
        },
        {
          "output_type": "stream",
          "name": "stderr",
          "text": [
            "100%|███████████████████████████████████████████████████████████████| 10/10 [00:56<00:00,  5.62s/it]\n"
          ]
        },
        {
          "output_type": "stream",
          "name": "stdout",
          "text": [
            "Round 14 training accuracy: 0.9657\n",
            "Round 14 testing accuracy: 0.9663\n",
            "Round 15\n"
          ]
        },
        {
          "output_type": "stream",
          "name": "stderr",
          "text": [
            "100%|███████████████████████████████████████████████████████████████| 10/10 [00:58<00:00,  5.81s/it]\n"
          ]
        },
        {
          "output_type": "stream",
          "name": "stdout",
          "text": [
            "Round 15 training accuracy: 0.969925\n",
            "Round 15 testing accuracy: 0.9715\n"
          ]
        }
      ]
    },
    {
      "cell_type": "markdown",
      "source": [
        "##**Uncertainty sampling (Entropy Sampling Dropout) strategy**"
      ],
      "metadata": {
        "id": "UuLcyLAXsOYg"
      }
    },
    {
      "cell_type": "code",
      "source": [
        "# start experiment\n",
        "init = 10000\n",
        "dataset.initialize_labels(init)\n",
        "print(f\"number of labeled pool: {init}\")\n",
        "print(f\"number of unlabeled pool: {dataset.n_pool-init}\")\n",
        "print(f\"number of testing pool: {dataset.n_test}\")\n",
        "print()"
      ],
      "metadata": {
        "colab": {
          "base_uri": "https://localhost:8080/"
        },
        "id": "u4-CnI_JsKGy",
        "outputId": "b4f5c3e7-c8fa-4d5d-a68a-c99da43ca77d"
      },
      "execution_count": 22,
      "outputs": [
        {
          "output_type": "stream",
          "name": "stdout",
          "text": [
            "number of labeled pool: 10000\n",
            "number of unlabeled pool: 30000\n",
            "number of testing pool: 10000\n",
            "\n"
          ]
        }
      ]
    },
    {
      "cell_type": "code",
      "source": [
        "strategy = get_strategy('EntropySamplingDropout')(dataset, net)"
      ],
      "metadata": {
        "id": "vcTDiZ74siIs"
      },
      "execution_count": 23,
      "outputs": []
    },
    {
      "cell_type": "code",
      "source": [
        "Test_acc_uncertainty_based_Entropy_Sampling = []"
      ],
      "metadata": {
        "id": "kYmwWitgsiNT"
      },
      "execution_count": 24,
      "outputs": []
    },
    {
      "cell_type": "code",
      "source": [
        "# round 1 accuracy\n",
        "print(\"Round 1\")\n",
        "strategy.train()\n",
        "# no. Epoch is 10\n",
        "preds = strategy.predict(dataset.get_train_data()[1])\n",
        "print(f\"Round 1 training accuracy: {cal_training_acc(preds)}\")\n",
        "\n",
        "preds = strategy.predict(dataset.get_test_data())\n",
        "print(f\"Round 1 testing accuracy: {dataset.cal_test_acc(preds)}\")\n",
        "Test_acc_uncertainty_based_Entropy_Sampling.append(dataset.cal_test_acc(preds))"
      ],
      "metadata": {
        "colab": {
          "base_uri": "https://localhost:8080/"
        },
        "id": "Pmj8fl5csr75",
        "outputId": "19924cf1-2b1c-489c-c50f-adb220fb0d13"
      },
      "execution_count": 25,
      "outputs": [
        {
          "output_type": "stream",
          "name": "stdout",
          "text": [
            "Round 1\n"
          ]
        },
        {
          "output_type": "stream",
          "name": "stderr",
          "text": [
            "100%|███████████████████████████████████████████████████████████████| 10/10 [01:33<00:00,  9.39s/it]\n"
          ]
        },
        {
          "output_type": "stream",
          "name": "stdout",
          "text": [
            "Round 1 training accuracy: 0.9741\n",
            "Round 1 testing accuracy: 0.9748\n"
          ]
        }
      ]
    },
    {
      "cell_type": "code",
      "source": [
        "for rd in range(2, 16):\n",
        "    print(f\"Round {rd}\")\n",
        "\n",
        "    # query\n",
        "    query_idxs = strategy.query(100)\n",
        "\n",
        "    # update labels\n",
        "    strategy.update(query_idxs)\n",
        "    strategy.train()\n",
        "\n",
        "    # calculate accuracy on test and training\n",
        "    preds = strategy.predict(dataset.get_train_data()[1])\n",
        "    print(f\"Round {rd} training accuracy: {cal_training_acc(preds)}\")\n",
        "\n",
        "    preds = strategy.predict(dataset.get_test_data())\n",
        "    print(f\"Round {rd} testing accuracy: {dataset.cal_test_acc(preds)}\")\n",
        "    Test_acc_uncertainty_based_Entropy_Sampling.append(dataset.cal_test_acc(preds))"
      ],
      "metadata": {
        "colab": {
          "base_uri": "https://localhost:8080/"
        },
        "id": "kZV5XtKHsr-S",
        "outputId": "2987e6b1-01f6-4c9c-aee4-207b2e8f42b7"
      },
      "execution_count": 26,
      "outputs": [
        {
          "output_type": "stream",
          "name": "stdout",
          "text": [
            "Round 2\n"
          ]
        },
        {
          "output_type": "stream",
          "name": "stderr",
          "text": [
            "100%|███████████████████████████████████████████████████████████████| 10/10 [01:34<00:00,  9.48s/it]\n"
          ]
        },
        {
          "output_type": "stream",
          "name": "stdout",
          "text": [
            "Round 2 training accuracy: 0.973525\n",
            "Round 2 testing accuracy: 0.9741\n",
            "Round 3\n"
          ]
        },
        {
          "output_type": "stream",
          "name": "stderr",
          "text": [
            "100%|███████████████████████████████████████████████████████████████| 10/10 [01:34<00:00,  9.41s/it]\n"
          ]
        },
        {
          "output_type": "stream",
          "name": "stdout",
          "text": [
            "Round 3 training accuracy: 0.97285\n",
            "Round 3 testing accuracy: 0.9724\n",
            "Round 4\n"
          ]
        },
        {
          "output_type": "stream",
          "name": "stderr",
          "text": [
            "100%|███████████████████████████████████████████████████████████████| 10/10 [01:34<00:00,  9.48s/it]\n"
          ]
        },
        {
          "output_type": "stream",
          "name": "stdout",
          "text": [
            "Round 4 training accuracy: 0.973225\n",
            "Round 4 testing accuracy: 0.9757\n",
            "Round 5\n"
          ]
        },
        {
          "output_type": "stream",
          "name": "stderr",
          "text": [
            "100%|███████████████████████████████████████████████████████████████| 10/10 [01:37<00:00,  9.73s/it]\n"
          ]
        },
        {
          "output_type": "stream",
          "name": "stdout",
          "text": [
            "Round 5 training accuracy: 0.9759\n",
            "Round 5 testing accuracy: 0.9764\n",
            "Round 6\n"
          ]
        },
        {
          "output_type": "stream",
          "name": "stderr",
          "text": [
            "100%|███████████████████████████████████████████████████████████████| 10/10 [01:37<00:00,  9.73s/it]\n"
          ]
        },
        {
          "output_type": "stream",
          "name": "stdout",
          "text": [
            "Round 6 training accuracy: 0.975825\n",
            "Round 6 testing accuracy: 0.9733\n",
            "Round 7\n"
          ]
        },
        {
          "output_type": "stream",
          "name": "stderr",
          "text": [
            "100%|███████████████████████████████████████████████████████████████| 10/10 [01:36<00:00,  9.61s/it]\n"
          ]
        },
        {
          "output_type": "stream",
          "name": "stdout",
          "text": [
            "Round 7 training accuracy: 0.97525\n",
            "Round 7 testing accuracy: 0.9749\n",
            "Round 8\n"
          ]
        },
        {
          "output_type": "stream",
          "name": "stderr",
          "text": [
            "100%|███████████████████████████████████████████████████████████████| 10/10 [01:37<00:00,  9.77s/it]\n"
          ]
        },
        {
          "output_type": "stream",
          "name": "stdout",
          "text": [
            "Round 8 training accuracy: 0.97125\n",
            "Round 8 testing accuracy: 0.9717\n",
            "Round 9\n"
          ]
        },
        {
          "output_type": "stream",
          "name": "stderr",
          "text": [
            "100%|███████████████████████████████████████████████████████████████| 10/10 [01:37<00:00,  9.79s/it]\n"
          ]
        },
        {
          "output_type": "stream",
          "name": "stdout",
          "text": [
            "Round 9 training accuracy: 0.97515\n",
            "Round 9 testing accuracy: 0.9758\n",
            "Round 10\n"
          ]
        },
        {
          "output_type": "stream",
          "name": "stderr",
          "text": [
            "100%|███████████████████████████████████████████████████████████████| 10/10 [01:37<00:00,  9.75s/it]\n"
          ]
        },
        {
          "output_type": "stream",
          "name": "stdout",
          "text": [
            "Round 10 training accuracy: 0.9747\n",
            "Round 10 testing accuracy: 0.974\n",
            "Round 11\n"
          ]
        },
        {
          "output_type": "stream",
          "name": "stderr",
          "text": [
            "100%|███████████████████████████████████████████████████████████████| 10/10 [01:41<00:00, 10.12s/it]\n"
          ]
        },
        {
          "output_type": "stream",
          "name": "stdout",
          "text": [
            "Round 11 training accuracy: 0.97445\n",
            "Round 11 testing accuracy: 0.9734\n",
            "Round 12\n"
          ]
        },
        {
          "output_type": "stream",
          "name": "stderr",
          "text": [
            "100%|███████████████████████████████████████████████████████████████| 10/10 [01:40<00:00, 10.02s/it]\n"
          ]
        },
        {
          "output_type": "stream",
          "name": "stdout",
          "text": [
            "Round 12 training accuracy: 0.973925\n",
            "Round 12 testing accuracy: 0.9758\n",
            "Round 13\n"
          ]
        },
        {
          "output_type": "stream",
          "name": "stderr",
          "text": [
            "100%|███████████████████████████████████████████████████████████████| 10/10 [01:40<00:00, 10.04s/it]\n"
          ]
        },
        {
          "output_type": "stream",
          "name": "stdout",
          "text": [
            "Round 13 training accuracy: 0.975625\n",
            "Round 13 testing accuracy: 0.9761\n",
            "Round 14\n"
          ]
        },
        {
          "output_type": "stream",
          "name": "stderr",
          "text": [
            "100%|███████████████████████████████████████████████████████████████| 10/10 [01:41<00:00, 10.10s/it]\n"
          ]
        },
        {
          "output_type": "stream",
          "name": "stdout",
          "text": [
            "Round 14 training accuracy: 0.975875\n",
            "Round 14 testing accuracy: 0.9755\n",
            "Round 15\n"
          ]
        },
        {
          "output_type": "stream",
          "name": "stderr",
          "text": [
            "100%|███████████████████████████████████████████████████████████████| 10/10 [01:40<00:00, 10.05s/it]\n"
          ]
        },
        {
          "output_type": "stream",
          "name": "stdout",
          "text": [
            "Round 15 training accuracy: 0.97665\n",
            "Round 15 testing accuracy: 0.9765\n"
          ]
        }
      ]
    },
    {
      "cell_type": "markdown",
      "source": [
        "##**Uncertainty sampling (Margin Sampling) strategy**\n"
      ],
      "metadata": {
        "id": "M_yEcygUsvcV"
      }
    },
    {
      "cell_type": "code",
      "source": [
        "# start experiment\n",
        "init = 10000\n",
        "dataset.initialize_labels(init)\n",
        "print(f\"number of labeled pool: {init}\")\n",
        "print(f\"number of unlabeled pool: {dataset.n_pool-init}\")\n",
        "print(f\"number of testing pool: {dataset.n_test}\")\n",
        "print()"
      ],
      "metadata": {
        "colab": {
          "base_uri": "https://localhost:8080/"
        },
        "id": "fyey_LeSssBK",
        "outputId": "2a0c8ce4-911a-4aa0-cafe-8573ce6a7451"
      },
      "execution_count": 27,
      "outputs": [
        {
          "output_type": "stream",
          "name": "stdout",
          "text": [
            "number of labeled pool: 10000\n",
            "number of unlabeled pool: 30000\n",
            "number of testing pool: 10000\n",
            "\n"
          ]
        }
      ]
    },
    {
      "cell_type": "code",
      "source": [
        "strategy = get_strategy('MarginSampling')(dataset, net)"
      ],
      "metadata": {
        "id": "0qik5nGqsygG"
      },
      "execution_count": 28,
      "outputs": []
    },
    {
      "cell_type": "code",
      "source": [
        "Test_acc_uncertainty_based_Margin_Sampling = []"
      ],
      "metadata": {
        "id": "1JyBj7awsymA"
      },
      "execution_count": 29,
      "outputs": []
    },
    {
      "cell_type": "code",
      "source": [
        "# round 1 accuracy\n",
        "print(\"Round 1\")\n",
        "strategy.train()\n",
        "# no. Epoch is 10\n",
        "preds = strategy.predict(dataset.get_train_data()[1])\n",
        "print(f\"Round 1 training accuracy: {cal_training_acc(preds)}\")\n",
        "\n",
        "preds = strategy.predict(dataset.get_test_data())\n",
        "print(f\"Round 1 testing accuracy: {dataset.cal_test_acc(preds)}\")\n",
        "Test_acc_uncertainty_based_Margin_Sampling.append(dataset.cal_test_acc(preds))"
      ],
      "metadata": {
        "colab": {
          "base_uri": "https://localhost:8080/"
        },
        "id": "hrfBVSu6sypM",
        "outputId": "620aa616-08ef-4c4a-cd64-c457880dbd42"
      },
      "execution_count": 30,
      "outputs": [
        {
          "output_type": "stream",
          "name": "stdout",
          "text": [
            "Round 1\n"
          ]
        },
        {
          "output_type": "stream",
          "name": "stderr",
          "text": [
            "100%|███████████████████████████████████████████████████████████████| 10/10 [02:07<00:00, 12.75s/it]\n"
          ]
        },
        {
          "output_type": "stream",
          "name": "stdout",
          "text": [
            "Round 1 training accuracy: 0.976475\n",
            "Round 1 testing accuracy: 0.9768\n"
          ]
        }
      ]
    },
    {
      "cell_type": "code",
      "source": [
        "for rd in range(2, 16):\n",
        "    print(f\"Round {rd}\")\n",
        "\n",
        "    # query\n",
        "    query_idxs = strategy.query(100)\n",
        "\n",
        "    # update labels\n",
        "    strategy.update(query_idxs)\n",
        "    strategy.train()\n",
        "\n",
        "    # calculate accuracy on test and training\n",
        "    preds = strategy.predict(dataset.get_train_data()[1])\n",
        "    print(f\"Round {rd} training accuracy: {cal_training_acc(preds)}\")\n",
        "\n",
        "    preds = strategy.predict(dataset.get_test_data())\n",
        "    print(f\"Round {rd} testing accuracy: {dataset.cal_test_acc(preds)}\")\n",
        "    Test_acc_uncertainty_based_Margin_Sampling.append(dataset.cal_test_acc(preds))"
      ],
      "metadata": {
        "colab": {
          "base_uri": "https://localhost:8080/"
        },
        "id": "RYMreuuns3k-",
        "outputId": "de919c3c-ef13-4780-ae59-545cd0535613"
      },
      "execution_count": 31,
      "outputs": [
        {
          "output_type": "stream",
          "name": "stdout",
          "text": [
            "Round 2\n"
          ]
        },
        {
          "output_type": "stream",
          "name": "stderr",
          "text": [
            "100%|███████████████████████████████████████████████████████████████| 10/10 [02:05<00:00, 12.53s/it]\n"
          ]
        },
        {
          "output_type": "stream",
          "name": "stdout",
          "text": [
            "Round 2 training accuracy: 0.9006\n",
            "Round 2 testing accuracy: 0.9002\n",
            "Round 3\n"
          ]
        },
        {
          "output_type": "stream",
          "name": "stderr",
          "text": [
            "100%|███████████████████████████████████████████████████████████████| 10/10 [02:07<00:00, 12.74s/it]\n"
          ]
        },
        {
          "output_type": "stream",
          "name": "stdout",
          "text": [
            "Round 3 training accuracy: 0.97925\n",
            "Round 3 testing accuracy: 0.9787\n",
            "Round 4\n"
          ]
        },
        {
          "output_type": "stream",
          "name": "stderr",
          "text": [
            "100%|███████████████████████████████████████████████████████████████| 10/10 [02:07<00:00, 12.72s/it]\n"
          ]
        },
        {
          "output_type": "stream",
          "name": "stdout",
          "text": [
            "Round 4 training accuracy: 0.98045\n",
            "Round 4 testing accuracy: 0.9792\n",
            "Round 5\n"
          ]
        },
        {
          "output_type": "stream",
          "name": "stderr",
          "text": [
            "100%|███████████████████████████████████████████████████████████████| 10/10 [02:08<00:00, 12.82s/it]\n"
          ]
        },
        {
          "output_type": "stream",
          "name": "stdout",
          "text": [
            "Round 5 training accuracy: 0.978625\n",
            "Round 5 testing accuracy: 0.9786\n",
            "Round 6\n"
          ]
        },
        {
          "output_type": "stream",
          "name": "stderr",
          "text": [
            "100%|███████████████████████████████████████████████████████████████| 10/10 [02:08<00:00, 12.89s/it]\n"
          ]
        },
        {
          "output_type": "stream",
          "name": "stdout",
          "text": [
            "Round 6 training accuracy: 0.97825\n",
            "Round 6 testing accuracy: 0.9788\n",
            "Round 7\n"
          ]
        },
        {
          "output_type": "stream",
          "name": "stderr",
          "text": [
            "100%|███████████████████████████████████████████████████████████████| 10/10 [02:10<00:00, 13.03s/it]\n"
          ]
        },
        {
          "output_type": "stream",
          "name": "stdout",
          "text": [
            "Round 7 training accuracy: 0.9776\n",
            "Round 7 testing accuracy: 0.9771\n",
            "Round 8\n"
          ]
        },
        {
          "output_type": "stream",
          "name": "stderr",
          "text": [
            "100%|███████████████████████████████████████████████████████████████| 10/10 [02:10<00:00, 13.07s/it]\n"
          ]
        },
        {
          "output_type": "stream",
          "name": "stdout",
          "text": [
            "Round 8 training accuracy: 0.977225\n",
            "Round 8 testing accuracy: 0.9767\n",
            "Round 9\n"
          ]
        },
        {
          "output_type": "stream",
          "name": "stderr",
          "text": [
            "100%|███████████████████████████████████████████████████████████████| 10/10 [02:12<00:00, 13.23s/it]\n"
          ]
        },
        {
          "output_type": "stream",
          "name": "stdout",
          "text": [
            "Round 9 training accuracy: 0.978925\n",
            "Round 9 testing accuracy: 0.9783\n",
            "Round 10\n"
          ]
        },
        {
          "output_type": "stream",
          "name": "stderr",
          "text": [
            "100%|███████████████████████████████████████████████████████████████| 10/10 [02:13<00:00, 13.36s/it]\n"
          ]
        },
        {
          "output_type": "stream",
          "name": "stdout",
          "text": [
            "Round 10 training accuracy: 0.97675\n",
            "Round 10 testing accuracy: 0.9782\n",
            "Round 11\n"
          ]
        },
        {
          "output_type": "stream",
          "name": "stderr",
          "text": [
            "100%|███████████████████████████████████████████████████████████████| 10/10 [02:13<00:00, 13.32s/it]\n"
          ]
        },
        {
          "output_type": "stream",
          "name": "stdout",
          "text": [
            "Round 11 training accuracy: 0.9805\n",
            "Round 11 testing accuracy: 0.9793\n",
            "Round 12\n"
          ]
        },
        {
          "output_type": "stream",
          "name": "stderr",
          "text": [
            "100%|███████████████████████████████████████████████████████████████| 10/10 [02:15<00:00, 13.57s/it]\n"
          ]
        },
        {
          "output_type": "stream",
          "name": "stdout",
          "text": [
            "Round 12 training accuracy: 0.9753\n",
            "Round 12 testing accuracy: 0.9753\n",
            "Round 13\n"
          ]
        },
        {
          "output_type": "stream",
          "name": "stderr",
          "text": [
            "100%|███████████████████████████████████████████████████████████████| 10/10 [02:15<00:00, 13.58s/it]\n"
          ]
        },
        {
          "output_type": "stream",
          "name": "stdout",
          "text": [
            "Round 13 training accuracy: 0.976675\n",
            "Round 13 testing accuracy: 0.9775\n",
            "Round 14\n"
          ]
        },
        {
          "output_type": "stream",
          "name": "stderr",
          "text": [
            "100%|███████████████████████████████████████████████████████████████| 10/10 [02:15<00:00, 13.56s/it]\n"
          ]
        },
        {
          "output_type": "stream",
          "name": "stdout",
          "text": [
            "Round 14 training accuracy: 0.979525\n",
            "Round 14 testing accuracy: 0.9788\n",
            "Round 15\n"
          ]
        },
        {
          "output_type": "stream",
          "name": "stderr",
          "text": [
            "100%|███████████████████████████████████████████████████████████████| 10/10 [02:15<00:00, 13.51s/it]\n"
          ]
        },
        {
          "output_type": "stream",
          "name": "stdout",
          "text": [
            "Round 15 training accuracy: 0.980275\n",
            "Round 15 testing accuracy: 0.9804\n"
          ]
        }
      ]
    },
    {
      "cell_type": "markdown",
      "source": [
        "##**Comparing results**"
      ],
      "metadata": {
        "id": "tHFsk1wws78D"
      }
    },
    {
      "cell_type": "code",
      "source": [
        "plt.plot(Test_acc_uncertainty_based_Least_Confidence_Sampling, label = 'Least Confidence Sampling')\n",
        "plt.plot(Test_acc_uncertainty_based_Entropy_Sampling, label = 'Entropy-based Sampling')\n",
        "plt.plot(Test_acc_uncertainty_based_Margin_Sampling, label = 'Margin-based Sampling')\n",
        "plt.legend()\n",
        "plt.show()"
      ],
      "metadata": {
        "colab": {
          "base_uri": "https://localhost:8080/",
          "height": 430
        },
        "id": "7J2_B-mns6z8",
        "outputId": "30bd805d-bba7-40c0-a1cc-53d429f732da"
      },
      "execution_count": 32,
      "outputs": [
        {
          "output_type": "display_data",
          "data": {
            "text/plain": [
              "<Figure size 640x480 with 1 Axes>"
            ],
            "image/png": "[encoded data removed]"
          },
          "metadata": {}
        }
      ]
    },
    {
      "cell_type": "code",
      "source": [],
      "metadata": {
        "id": "nab_Ng_ftJgJ"
      },
      "execution_count": null,
      "outputs": []
    }
  ]
}