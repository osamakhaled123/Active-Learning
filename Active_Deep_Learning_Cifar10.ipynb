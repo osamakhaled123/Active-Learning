{
  "nbformat": 4,
  "nbformat_minor": 0,
  "metadata": {
    "colab": {
      "provenance": []
    },
    "kernelspec": {
      "name": "python3",
      "display_name": "Python 3"
    },
    "language_info": {
      "name": "python"
    },
    "accelerator": "GPU",
    "gpuClass": "standard"
  },
  "cells": [
    {
      "cell_type": "code",
      "source": [
        "!git clone https://github.com/ej0cl6/deep-active-learning.git\n",
        "!cd deep-active-learning"
      ],
      "metadata": {
        "colab": {
          "base_uri": "https://localhost:8080/"
        },
        "id": "Y4ZWLMYGfUXu",
        "outputId": "72c3449a-0f13-46e3-9fe9-ada7ac2ca296"
      },
      "execution_count": 1,
      "outputs": [
        {
          "output_type": "stream",
          "name": "stdout",
          "text": [
            "Cloning into 'deep-active-learning'...\n",
            "remote: Enumerating objects: 232, done.\u001b[K\n",
            "remote: Total 232 (delta 0), reused 0 (delta 0), pack-reused 232\u001b[K\n",
            "Receiving objects: 100% (232/232), 44.12 KiB | 1.92 MiB/s, done.\n",
            "Resolving deltas: 100% (141/141), done.\n"
          ]
        }
      ]
    },
    {
      "cell_type": "code",
      "source": [
        "import sys\n",
        "sys.path.append('/content/deep-active-learning')\n",
        "sys.path.append('/content/deep-active-learning/query_strategies')"
      ],
      "metadata": {
        "id": "P_QOSwM8uoAz"
      },
      "execution_count": 2,
      "outputs": []
    },
    {
      "cell_type": "code",
      "source": [
        "import argparse\n",
        "import numpy as np\n",
        "import torch\n",
        "from utils import get_dataset, get_net, get_strategy\n",
        "from pprint import pprint\n",
        "from torchvision import datasets\n",
        "import matplotlib.pyplot as plt"
      ],
      "metadata": {
        "id": "KKpNHeV5Shsp"
      },
      "execution_count": 3,
      "outputs": []
    },
    {
      "cell_type": "code",
      "source": [
        "use_cuda = torch.cuda.is_available()\n",
        "device = torch.device(\"cuda\" if use_cuda else \"cpu\")"
      ],
      "metadata": {
        "id": "OgyFv3TUSu47"
      },
      "execution_count": 4,
      "outputs": []
    },
    {
      "cell_type": "code",
      "source": [
        "dataset = get_dataset('CIFAR10')                   # load dataset\n",
        "net = get_net('CIFAR10', device)                   # load network\n",
        "#strategy = get_strategy('LeastConfidence')(dataset, net)"
      ],
      "metadata": {
        "colab": {
          "base_uri": "https://localhost:8080/"
        },
        "id": "7W6_39HxSRFn",
        "outputId": "066c2229-a8fd-44cc-aa03-8e9a52f02ba0"
      },
      "execution_count": 5,
      "outputs": [
        {
          "output_type": "stream",
          "name": "stdout",
          "text": [
            "Downloading https://www.cs.toronto.edu/~kriz/cifar-10-python.tar.gz to ./data/CIFAR10/cifar-10-python.tar.gz\n"
          ]
        },
        {
          "output_type": "stream",
          "name": "stderr",
          "text": [
            "100%|██████████| 170498071/170498071 [00:03<00:00, 56723115.64it/s]\n"
          ]
        },
        {
          "output_type": "stream",
          "name": "stdout",
          "text": [
            "Extracting ./data/CIFAR10/cifar-10-python.tar.gz to ./data/CIFAR10\n",
            "Files already downloaded and verified\n"
          ]
        }
      ]
    },
    {
      "cell_type": "markdown",
      "source": [
        "#Unbalancing the dataset"
      ],
      "metadata": {
        "id": "uUgnMxXjZ-Mn"
      }
    },
    {
      "cell_type": "code",
      "source": [
        "np.unique(dataset.Y_train, return_counts = True)"
      ],
      "metadata": {
        "colab": {
          "base_uri": "https://localhost:8080/"
        },
        "id": "8d28q8SaMO0l",
        "outputId": "f6aff6ac-bfe9-4a5d-fe43-c58719e3f22b"
      },
      "execution_count": 6,
      "outputs": [
        {
          "output_type": "execute_result",
          "data": {
            "text/plain": [
              "(array([0, 1, 2, 3, 4, 5, 6, 7, 8, 9]),\n",
              " array([3986, 3986, 4048, 3984, 4003, 3975, 4020, 4023, 3997, 3978]))"
            ]
          },
          "metadata": {},
          "execution_count": 6
        }
      ]
    },
    {
      "cell_type": "code",
      "source": [
        "data = dataset.X_train"
      ],
      "metadata": {
        "id": "TRQ0MJN4aCLw"
      },
      "execution_count": 7,
      "outputs": []
    },
    {
      "cell_type": "code",
      "source": [
        "target = dataset.Y_train"
      ],
      "metadata": {
        "id": "4wHyQOmJaCTg"
      },
      "execution_count": 8,
      "outputs": []
    },
    {
      "cell_type": "code",
      "source": [
        "type(dataset), type(target) "
      ],
      "metadata": {
        "colab": {
          "base_uri": "https://localhost:8080/"
        },
        "id": "qg31kcAwhidN",
        "outputId": "b27e5451-ad11-4557-d20c-44f41740c03f"
      },
      "execution_count": 9,
      "outputs": [
        {
          "output_type": "execute_result",
          "data": {
            "text/plain": [
              "(data.Data, torch.Tensor)"
            ]
          },
          "metadata": {},
          "execution_count": 9
        }
      ]
    },
    {
      "cell_type": "code",
      "source": [
        "target = np.array(target)"
      ],
      "metadata": {
        "id": "TBoyCLyRh6a4"
      },
      "execution_count": 10,
      "outputs": []
    },
    {
      "cell_type": "code",
      "source": [
        "data.shape, target.shape"
      ],
      "metadata": {
        "colab": {
          "base_uri": "https://localhost:8080/"
        },
        "id": "HJxpQGor4dUr",
        "outputId": "f4ffac84-20ff-4e41-c8c4-b71e4b57e28c"
      },
      "execution_count": 11,
      "outputs": [
        {
          "output_type": "execute_result",
          "data": {
            "text/plain": [
              "((40000, 32, 32, 3), (40000,))"
            ]
          },
          "metadata": {},
          "execution_count": 11
        }
      ]
    },
    {
      "cell_type": "code",
      "source": [
        "plt.hist(target);"
      ],
      "metadata": {
        "colab": {
          "base_uri": "https://localhost:8080/",
          "height": 430
        },
        "id": "04MD6KDt7NYD",
        "outputId": "6fbd9d9d-b8ba-4911-fad6-0c0fdcda81ee"
      },
      "execution_count": 12,
      "outputs": [
        {
          "output_type": "display_data",
          "data": {
            "text/plain": [
              "<Figure size 640x480 with 1 Axes>"
            ],
            "image/png": "[encoded data removed]"
          },
          "metadata": {}
        }
      ]
    },
    {
      "cell_type": "code",
      "source": [
        "percentage = 0\n",
        "for i in range(np.unique(target).shape[0]):\n",
        "    portion = np.where(target == i)[0]\n",
        "    portion = portion[:int((percentage/100)*portion.shape[0])]\n",
        "    data = np.delete(data, portion, axis = 0)\n",
        "    target = np.delete(target, portion)\n",
        "    percentage += 5\n",
        "    "
      ],
      "metadata": {
        "id": "XA0MPepEmEqv"
      },
      "execution_count": 13,
      "outputs": []
    },
    {
      "cell_type": "code",
      "source": [
        "plt.hist(target,color = 'red');\n",
        "plt.xlabel('Unbalanced dataset (Right skewed)')\n",
        "plt.title('the distribution afted truncating the dataset');"
      ],
      "metadata": {
        "colab": {
          "base_uri": "https://localhost:8080/",
          "height": 472
        },
        "id": "DLorkF0p5IKg",
        "outputId": "f7073d6b-5fdc-43b8-ce8f-5ee2d19daf3a"
      },
      "execution_count": 14,
      "outputs": [
        {
          "output_type": "display_data",
          "data": {
            "text/plain": [
              "<Figure size 640x480 with 1 Axes>"
            ],
            "image/png": "[encoded data removed]"
          },
          "metadata": {}
        }
      ]
    },
    {
      "cell_type": "code",
      "source": [
        "target = torch.from_numpy(target)"
      ],
      "metadata": {
        "id": "lduN_5jgBXwz"
      },
      "execution_count": 15,
      "outputs": []
    },
    {
      "cell_type": "code",
      "source": [
        "dataset.X_train = data\n",
        "dataset.Y_train = target"
      ],
      "metadata": {
        "id": "etgtxFawBf4r"
      },
      "execution_count": 16,
      "outputs": []
    },
    {
      "cell_type": "code",
      "source": [
        "dataset.X_train.shape, dataset.Y_train.shape"
      ],
      "metadata": {
        "colab": {
          "base_uri": "https://localhost:8080/"
        },
        "id": "WbT3mBo4CCQj",
        "outputId": "6f97f0a0-af9b-44a3-8d18-0d16279668ac"
      },
      "execution_count": 17,
      "outputs": [
        {
          "output_type": "execute_result",
          "data": {
            "text/plain": [
              "((31005, 32, 32, 3), torch.Size([31005]))"
            ]
          },
          "metadata": {},
          "execution_count": 17
        }
      ]
    },
    {
      "cell_type": "code",
      "source": [
        "dataset.n_pool = dataset.X_train.shape[0]\n",
        "dataset.labeled_idxs = np.zeros(dataset.n_pool, dtype=bool)\n",
        "net.params['n_epoch'] = 10"
      ],
      "metadata": {
        "id": "Do3id-oGeXeU"
      },
      "execution_count": 18,
      "outputs": []
    },
    {
      "cell_type": "code",
      "source": [
        "def cal_training_acc(preds):\n",
        "        return 1.0 * (dataset.Y_train==preds).sum().item() / dataset.n_pool"
      ],
      "metadata": {
        "id": "4xXKNdIun7A9"
      },
      "execution_count": 19,
      "outputs": []
    },
    {
      "cell_type": "markdown",
      "source": [
        "##**Uncertainty sampling (Least Confidence) strategy**\n"
      ],
      "metadata": {
        "id": "SPlCkKUYjzvT"
      }
    },
    {
      "cell_type": "code",
      "source": [
        "strategy = get_strategy('LeastConfidence')(dataset, net)"
      ],
      "metadata": {
        "id": "cdvcyWOdASb2"
      },
      "execution_count": 20,
      "outputs": []
    },
    {
      "cell_type": "code",
      "source": [
        "# start experiment\n",
        "init = 10000\n",
        "dataset.initialize_labels(init)\n",
        "print(f\"number of labeled pool: {init}\")\n",
        "print(f\"number of unlabeled pool: {dataset.n_pool-init}\")\n",
        "print(f\"number of testing pool: {dataset.n_test}\")\n",
        "print()"
      ],
      "metadata": {
        "colab": {
          "base_uri": "https://localhost:8080/"
        },
        "id": "v3cL6iAWUUkP",
        "outputId": "2592aa86-f758-4111-f06f-61cc89d07904"
      },
      "execution_count": 21,
      "outputs": [
        {
          "output_type": "stream",
          "name": "stdout",
          "text": [
            "number of labeled pool: 10000\n",
            "number of unlabeled pool: 21005\n",
            "number of testing pool: 10000\n",
            "\n"
          ]
        }
      ]
    },
    {
      "cell_type": "code",
      "source": [
        "Test_acc_uncertainty_based_Least_Confidence_Sampling = []"
      ],
      "metadata": {
        "id": "78Pg334s5s8W"
      },
      "execution_count": 22,
      "outputs": []
    },
    {
      "cell_type": "code",
      "source": [
        "# round 1 accuracy\n",
        "print(\"Round 1\")\n",
        "strategy.train()\n",
        "# no. Epoch is 10\n",
        "preds = strategy.predict(dataset.get_train_data()[1])\n",
        "print(f\"Round 1 training accuracy: {cal_training_acc(preds)}\")\n",
        "\n",
        "preds = strategy.predict(dataset.get_test_data())\n",
        "print(f\"Round 1 testing accuracy: {dataset.cal_test_acc(preds)}\")\n",
        "Test_acc_uncertainty_based_Least_Confidence_Sampling.append(dataset.cal_test_acc(preds))"
      ],
      "metadata": {
        "colab": {
          "base_uri": "https://localhost:8080/"
        },
        "id": "vM405Dx7eZMB",
        "outputId": "62cefd28-298c-4a38-b28a-cc84b46f3d21"
      },
      "execution_count": 23,
      "outputs": [
        {
          "output_type": "stream",
          "name": "stdout",
          "text": [
            "Round 1\n"
          ]
        },
        {
          "output_type": "stream",
          "name": "stderr",
          "text": [
            "100%|███████████████████████████████████████████████████████████████| 10/10 [00:43<00:00,  4.36s/it]\n"
          ]
        },
        {
          "output_type": "stream",
          "name": "stdout",
          "text": [
            "Round 1 training accuracy: 0.47731011127237544\n",
            "Round 1 testing accuracy: 0.4629\n"
          ]
        }
      ]
    },
    {
      "cell_type": "code",
      "source": [
        "for rd in range(2, 16):\n",
        "    print(f\"Round {rd}\")\n",
        "\n",
        "    # query\n",
        "    query_idxs = strategy.query(100)\n",
        "\n",
        "    # update labels\n",
        "    strategy.update(query_idxs)\n",
        "    strategy.train()\n",
        "\n",
        "    # calculate accuracy on test and training\n",
        "    preds = strategy.predict(dataset.get_train_data()[1])\n",
        "    print(f\"Round {rd} training accuracy: {cal_training_acc(preds)}\")\n",
        "\n",
        "    preds = strategy.predict(dataset.get_test_data())\n",
        "    print(f\"Round {rd} testing accuracy: {dataset.cal_test_acc(preds)}\")\n",
        "    Test_acc_uncertainty_based_Least_Confidence_Sampling.append(dataset.cal_test_acc(preds))"
      ],
      "metadata": {
        "colab": {
          "base_uri": "https://localhost:8080/"
        },
        "id": "RUlbrmtieoOr",
        "outputId": "d434973d-3560-4618-c5ef-0d326f73142a"
      },
      "execution_count": 24,
      "outputs": [
        {
          "output_type": "stream",
          "name": "stdout",
          "text": [
            "Round 2\n"
          ]
        },
        {
          "output_type": "stream",
          "name": "stderr",
          "text": [
            "100%|███████████████████████████████████████████████████████████████| 10/10 [00:37<00:00,  3.77s/it]\n"
          ]
        },
        {
          "output_type": "stream",
          "name": "stdout",
          "text": [
            "Round 2 training accuracy: 0.5710046766650541\n",
            "Round 2 testing accuracy: 0.5463\n",
            "Round 3\n"
          ]
        },
        {
          "output_type": "stream",
          "name": "stderr",
          "text": [
            "100%|███████████████████████████████████████████████████████████████| 10/10 [00:37<00:00,  3.77s/it]\n"
          ]
        },
        {
          "output_type": "stream",
          "name": "stdout",
          "text": [
            "Round 3 training accuracy: 0.5179164650862764\n",
            "Round 3 testing accuracy: 0.4992\n",
            "Round 4\n"
          ]
        },
        {
          "output_type": "stream",
          "name": "stderr",
          "text": [
            "100%|███████████████████████████████████████████████████████████████| 10/10 [00:37<00:00,  3.75s/it]\n"
          ]
        },
        {
          "output_type": "stream",
          "name": "stdout",
          "text": [
            "Round 4 training accuracy: 0.5495242702789873\n",
            "Round 4 testing accuracy: 0.5187\n",
            "Round 5\n"
          ]
        },
        {
          "output_type": "stream",
          "name": "stderr",
          "text": [
            "100%|███████████████████████████████████████████████████████████████| 10/10 [00:38<00:00,  3.80s/it]\n"
          ]
        },
        {
          "output_type": "stream",
          "name": "stdout",
          "text": [
            "Round 5 training accuracy: 0.517948717948718\n",
            "Round 5 testing accuracy: 0.4938\n",
            "Round 6\n"
          ]
        },
        {
          "output_type": "stream",
          "name": "stderr",
          "text": [
            "100%|███████████████████████████████████████████████████████████████| 10/10 [00:39<00:00,  3.97s/it]\n"
          ]
        },
        {
          "output_type": "stream",
          "name": "stdout",
          "text": [
            "Round 6 training accuracy: 0.3754555716819868\n",
            "Round 6 testing accuracy: 0.3339\n",
            "Round 7\n"
          ]
        },
        {
          "output_type": "stream",
          "name": "stderr",
          "text": [
            "100%|███████████████████████████████████████████████████████████████| 10/10 [00:38<00:00,  3.89s/it]\n"
          ]
        },
        {
          "output_type": "stream",
          "name": "stdout",
          "text": [
            "Round 7 training accuracy: 0.5463957426221577\n",
            "Round 7 testing accuracy: 0.5171\n",
            "Round 8\n"
          ]
        },
        {
          "output_type": "stream",
          "name": "stderr",
          "text": [
            "100%|███████████████████████████████████████████████████████████████| 10/10 [00:39<00:00,  3.93s/it]\n"
          ]
        },
        {
          "output_type": "stream",
          "name": "stdout",
          "text": [
            "Round 8 training accuracy: 0.4773746169972585\n",
            "Round 8 testing accuracy: 0.453\n",
            "Round 9\n"
          ]
        },
        {
          "output_type": "stream",
          "name": "stderr",
          "text": [
            "100%|███████████████████████████████████████████████████████████████| 10/10 [00:39<00:00,  3.91s/it]\n"
          ]
        },
        {
          "output_type": "stream",
          "name": "stdout",
          "text": [
            "Round 9 training accuracy: 0.5573294629898403\n",
            "Round 9 testing accuracy: 0.5234\n",
            "Round 10\n"
          ]
        },
        {
          "output_type": "stream",
          "name": "stderr",
          "text": [
            "100%|███████████████████████████████████████████████████████████████| 10/10 [00:39<00:00,  3.92s/it]\n"
          ]
        },
        {
          "output_type": "stream",
          "name": "stdout",
          "text": [
            "Round 10 training accuracy: 0.5196258667956781\n",
            "Round 10 testing accuracy: 0.4631\n",
            "Round 11\n"
          ]
        },
        {
          "output_type": "stream",
          "name": "stderr",
          "text": [
            "100%|███████████████████████████████████████████████████████████████| 10/10 [00:40<00:00,  4.02s/it]\n"
          ]
        },
        {
          "output_type": "stream",
          "name": "stdout",
          "text": [
            "Round 11 training accuracy: 0.5629414610546686\n",
            "Round 11 testing accuracy: 0.5195\n",
            "Round 12\n"
          ]
        },
        {
          "output_type": "stream",
          "name": "stderr",
          "text": [
            "100%|███████████████████████████████████████████████████████████████| 10/10 [00:41<00:00,  4.13s/it]\n"
          ]
        },
        {
          "output_type": "stream",
          "name": "stdout",
          "text": [
            "Round 12 training accuracy: 0.5566844057410095\n",
            "Round 12 testing accuracy: 0.5278\n",
            "Round 13\n"
          ]
        },
        {
          "output_type": "stream",
          "name": "stderr",
          "text": [
            "100%|███████████████████████████████████████████████████████████████| 10/10 [00:40<00:00,  4.05s/it]\n"
          ]
        },
        {
          "output_type": "stream",
          "name": "stdout",
          "text": [
            "Round 13 training accuracy: 0.5635542654410579\n",
            "Round 13 testing accuracy: 0.546\n",
            "Round 14\n"
          ]
        },
        {
          "output_type": "stream",
          "name": "stderr",
          "text": [
            "100%|███████████████████████████████████████████████████████████████| 10/10 [00:40<00:00,  4.08s/it]\n"
          ]
        },
        {
          "output_type": "stream",
          "name": "stdout",
          "text": [
            "Round 14 training accuracy: 0.5168521206257055\n",
            "Round 14 testing accuracy: 0.4893\n",
            "Round 15\n"
          ]
        },
        {
          "output_type": "stream",
          "name": "stderr",
          "text": [
            "100%|███████████████████████████████████████████████████████████████| 10/10 [00:41<00:00,  4.12s/it]\n"
          ]
        },
        {
          "output_type": "stream",
          "name": "stdout",
          "text": [
            "Round 15 training accuracy: 0.335397516529592\n",
            "Round 15 testing accuracy: 0.314\n"
          ]
        }
      ]
    },
    {
      "cell_type": "markdown",
      "source": [
        "##**Uncertainty sampling (Entropy Sampling Dropout) strategy**\n"
      ],
      "metadata": {
        "id": "ZUYJLBsdCPHa"
      }
    },
    {
      "cell_type": "code",
      "source": [
        "# start experiment\n",
        "init = 10000\n",
        "dataset.initialize_labels(init)\n",
        "print(f\"number of labeled pool: {init}\")\n",
        "print(f\"number of unlabeled pool: {dataset.n_pool-init}\")\n",
        "print(f\"number of testing pool: {dataset.n_test}\")\n",
        "print()"
      ],
      "metadata": {
        "colab": {
          "base_uri": "https://localhost:8080/"
        },
        "id": "Awo5Y-ECO_dD",
        "outputId": "57fca203-4b72-4386-e0dc-52df448523e9"
      },
      "execution_count": 25,
      "outputs": [
        {
          "output_type": "stream",
          "name": "stdout",
          "text": [
            "number of labeled pool: 10000\n",
            "number of unlabeled pool: 21005\n",
            "number of testing pool: 10000\n",
            "\n"
          ]
        }
      ]
    },
    {
      "cell_type": "code",
      "source": [
        "strategy = get_strategy('EntropySamplingDropout')(dataset, net)"
      ],
      "metadata": {
        "id": "OGq2qKmTh6M9"
      },
      "execution_count": 26,
      "outputs": []
    },
    {
      "cell_type": "code",
      "source": [
        "Test_acc_uncertainty_based_Entropy_Sampling = []"
      ],
      "metadata": {
        "id": "_YBCpequNQqd"
      },
      "execution_count": 27,
      "outputs": []
    },
    {
      "cell_type": "code",
      "source": [
        "# round 1 accuracy\n",
        "print(\"Round 1\")\n",
        "strategy.train()\n",
        "# no. Epoch is 10\n",
        "preds = strategy.predict(dataset.get_train_data()[1])\n",
        "print(f\"Round 1 training accuracy: {cal_training_acc(preds)}\")\n",
        "\n",
        "preds = strategy.predict(dataset.get_test_data())\n",
        "print(f\"Round 1 testing accuracy: {dataset.cal_test_acc(preds)}\")\n",
        "Test_acc_uncertainty_based_Entropy_Sampling.append(dataset.cal_test_acc(preds))"
      ],
      "metadata": {
        "colab": {
          "base_uri": "https://localhost:8080/"
        },
        "id": "cfoQFuWDNnnr",
        "outputId": "eb041559-aba4-4686-c29a-e727e82bd2e9"
      },
      "execution_count": 28,
      "outputs": [
        {
          "output_type": "stream",
          "name": "stdout",
          "text": [
            "Round 1\n"
          ]
        },
        {
          "output_type": "stream",
          "name": "stderr",
          "text": [
            "100%|███████████████████████████████████████████████████████████████| 10/10 [01:05<00:00,  6.53s/it]\n"
          ]
        },
        {
          "output_type": "stream",
          "name": "stdout",
          "text": [
            "Round 1 training accuracy: 0.6557006934365425\n",
            "Round 1 testing accuracy: 0.6096\n"
          ]
        }
      ]
    },
    {
      "cell_type": "code",
      "source": [
        "for rd in range(2, 16):\n",
        "    print(f\"Round {rd}\")\n",
        "\n",
        "    # query\n",
        "    query_idxs = strategy.query(100)\n",
        "\n",
        "    # update labels\n",
        "    strategy.update(query_idxs)\n",
        "    strategy.train()\n",
        "\n",
        "    # calculate accuracy on test and training\n",
        "    preds = strategy.predict(dataset.get_train_data()[1])\n",
        "    print(f\"Round {rd} training accuracy: {cal_training_acc(preds)}\")\n",
        "\n",
        "    preds = strategy.predict(dataset.get_test_data())\n",
        "    print(f\"Round {rd} testing accuracy: {dataset.cal_test_acc(preds)}\")\n",
        "    Test_acc_uncertainty_based_Entropy_Sampling.append(dataset.cal_test_acc(preds))"
      ],
      "metadata": {
        "colab": {
          "base_uri": "https://localhost:8080/"
        },
        "id": "f4Z1kOUiN5B9",
        "outputId": "c57fd09d-4daf-4c6c-f6f7-78dc25bd57a5"
      },
      "execution_count": 29,
      "outputs": [
        {
          "output_type": "stream",
          "name": "stdout",
          "text": [
            "Round 2\n"
          ]
        },
        {
          "output_type": "stream",
          "name": "stderr",
          "text": [
            "100%|███████████████████████████████████████████████████████████████| 10/10 [01:05<00:00,  6.51s/it]\n"
          ]
        },
        {
          "output_type": "stream",
          "name": "stdout",
          "text": [
            "Round 2 training accuracy: 0.6017739074342848\n",
            "Round 2 testing accuracy: 0.5703\n",
            "Round 3\n"
          ]
        },
        {
          "output_type": "stream",
          "name": "stderr",
          "text": [
            "100%|███████████████████████████████████████████████████████████████| 10/10 [01:04<00:00,  6.44s/it]\n"
          ]
        },
        {
          "output_type": "stream",
          "name": "stdout",
          "text": [
            "Round 3 training accuracy: 0.6174165457184325\n",
            "Round 3 testing accuracy: 0.5559\n",
            "Round 4\n"
          ]
        },
        {
          "output_type": "stream",
          "name": "stderr",
          "text": [
            "100%|███████████████████████████████████████████████████████████████| 10/10 [01:14<00:00,  7.43s/it]\n"
          ]
        },
        {
          "output_type": "stream",
          "name": "stdout",
          "text": [
            "Round 4 training accuracy: 0.6523141428801806\n",
            "Round 4 testing accuracy: 0.599\n",
            "Round 5\n"
          ]
        },
        {
          "output_type": "stream",
          "name": "stderr",
          "text": [
            "100%|███████████████████████████████████████████████████████████████| 10/10 [01:05<00:00,  6.54s/it]\n"
          ]
        },
        {
          "output_type": "stream",
          "name": "stdout",
          "text": [
            "Round 5 training accuracy: 0.5352039993549428\n",
            "Round 5 testing accuracy: 0.4923\n",
            "Round 6\n"
          ]
        },
        {
          "output_type": "stream",
          "name": "stderr",
          "text": [
            "100%|███████████████████████████████████████████████████████████████| 10/10 [01:07<00:00,  6.79s/it]\n"
          ]
        },
        {
          "output_type": "stream",
          "name": "stdout",
          "text": [
            "Round 6 training accuracy: 0.6245121754555717\n",
            "Round 6 testing accuracy: 0.5802\n",
            "Round 7\n"
          ]
        },
        {
          "output_type": "stream",
          "name": "stderr",
          "text": [
            "100%|███████████████████████████████████████████████████████████████| 10/10 [01:07<00:00,  6.73s/it]\n"
          ]
        },
        {
          "output_type": "stream",
          "name": "stdout",
          "text": [
            "Round 7 training accuracy: 0.540041928721174\n",
            "Round 7 testing accuracy: 0.4957\n",
            "Round 8\n"
          ]
        },
        {
          "output_type": "stream",
          "name": "stderr",
          "text": [
            "100%|███████████████████████████████████████████████████████████████| 10/10 [01:08<00:00,  6.90s/it]\n"
          ]
        },
        {
          "output_type": "stream",
          "name": "stdout",
          "text": [
            "Round 8 training accuracy: 0.6094500886953718\n",
            "Round 8 testing accuracy: 0.5659\n",
            "Round 9\n"
          ]
        },
        {
          "output_type": "stream",
          "name": "stderr",
          "text": [
            "100%|███████████████████████████████████████████████████████████████| 10/10 [01:08<00:00,  6.89s/it]\n"
          ]
        },
        {
          "output_type": "stream",
          "name": "stdout",
          "text": [
            "Round 9 training accuracy: 0.6000322528624416\n",
            "Round 9 testing accuracy: 0.5515\n",
            "Round 10\n"
          ]
        },
        {
          "output_type": "stream",
          "name": "stderr",
          "text": [
            "100%|███████████████████████████████████████████████████████████████| 10/10 [01:09<00:00,  6.99s/it]\n"
          ]
        },
        {
          "output_type": "stream",
          "name": "stdout",
          "text": [
            "Round 10 training accuracy: 0.6581519109820997\n",
            "Round 10 testing accuracy: 0.5973\n",
            "Round 11\n"
          ]
        },
        {
          "output_type": "stream",
          "name": "stderr",
          "text": [
            "100%|███████████████████████████████████████████████████████████████| 10/10 [01:09<00:00,  6.98s/it]\n"
          ]
        },
        {
          "output_type": "stream",
          "name": "stdout",
          "text": [
            "Round 11 training accuracy: 0.6636348975971618\n",
            "Round 11 testing accuracy: 0.6189\n",
            "Round 12\n"
          ]
        },
        {
          "output_type": "stream",
          "name": "stderr",
          "text": [
            "100%|███████████████████████████████████████████████████████████████| 10/10 [01:09<00:00,  6.95s/it]\n"
          ]
        },
        {
          "output_type": "stream",
          "name": "stdout",
          "text": [
            "Round 12 training accuracy: 0.467698758264796\n",
            "Round 12 testing accuracy: 0.447\n",
            "Round 13\n"
          ]
        },
        {
          "output_type": "stream",
          "name": "stderr",
          "text": [
            "100%|███████████████████████████████████████████████████████████████| 10/10 [01:10<00:00,  7.04s/it]\n"
          ]
        },
        {
          "output_type": "stream",
          "name": "stdout",
          "text": [
            "Round 13 training accuracy: 0.6593452668924367\n",
            "Round 13 testing accuracy: 0.6098\n",
            "Round 14\n"
          ]
        },
        {
          "output_type": "stream",
          "name": "stderr",
          "text": [
            "100%|███████████████████████████████████████████████████████████████| 10/10 [01:11<00:00,  7.15s/it]\n"
          ]
        },
        {
          "output_type": "stream",
          "name": "stdout",
          "text": [
            "Round 14 training accuracy: 0.6338009998387357\n",
            "Round 14 testing accuracy: 0.5769\n",
            "Round 15\n"
          ]
        },
        {
          "output_type": "stream",
          "name": "stderr",
          "text": [
            "100%|███████████████████████████████████████████████████████████████| 10/10 [01:10<00:00,  7.10s/it]\n"
          ]
        },
        {
          "output_type": "stream",
          "name": "stdout",
          "text": [
            "Round 15 training accuracy: 0.6430253184970166\n",
            "Round 15 testing accuracy: 0.584\n"
          ]
        }
      ]
    },
    {
      "cell_type": "markdown",
      "source": [
        "##**Uncertainty sampling (Margin Sampling) strategy**\n"
      ],
      "metadata": {
        "id": "l2Pqw7B6az7Y"
      }
    },
    {
      "cell_type": "code",
      "source": [
        "# start experiment\n",
        "init = 10000\n",
        "dataset.initialize_labels(init)\n",
        "print(f\"number of labeled pool: {init}\")\n",
        "print(f\"number of unlabeled pool: {dataset.n_pool-init}\")\n",
        "print(f\"number of testing pool: {dataset.n_test}\")\n",
        "print()"
      ],
      "metadata": {
        "colab": {
          "base_uri": "https://localhost:8080/"
        },
        "id": "OGPXgi64UyQH",
        "outputId": "3a2345ca-069f-4f39-a894-392516a2640c"
      },
      "execution_count": 30,
      "outputs": [
        {
          "output_type": "stream",
          "name": "stdout",
          "text": [
            "number of labeled pool: 10000\n",
            "number of unlabeled pool: 21005\n",
            "number of testing pool: 10000\n",
            "\n"
          ]
        }
      ]
    },
    {
      "cell_type": "code",
      "source": [
        "strategy = get_strategy('MarginSampling')(dataset, net)"
      ],
      "metadata": {
        "id": "_U3AgttIa0w2"
      },
      "execution_count": 31,
      "outputs": []
    },
    {
      "cell_type": "code",
      "source": [
        "Test_acc_uncertainty_based_Margin_Sampling = []"
      ],
      "metadata": {
        "id": "GSZBGrzia0zb"
      },
      "execution_count": 32,
      "outputs": []
    },
    {
      "cell_type": "code",
      "source": [
        "# round 1 accuracy\n",
        "print(\"Round 1\")\n",
        "strategy.train()\n",
        "# no. Epoch is 10\n",
        "preds = strategy.predict(dataset.get_train_data()[1])\n",
        "print(f\"Round 1 training accuracy: {cal_training_acc(preds)}\")\n",
        "\n",
        "preds = strategy.predict(dataset.get_test_data())\n",
        "print(f\"Round 1 testing accuracy: {dataset.cal_test_acc(preds)}\")\n",
        "Test_acc_uncertainty_based_Margin_Sampling.append(dataset.cal_test_acc(preds))"
      ],
      "metadata": {
        "colab": {
          "base_uri": "https://localhost:8080/"
        },
        "id": "zDkhbhSKcsgH",
        "outputId": "f2a5f500-8a81-4df7-bbd3-fa7f9caed994"
      },
      "execution_count": 33,
      "outputs": [
        {
          "output_type": "stream",
          "name": "stdout",
          "text": [
            "Round 1\n"
          ]
        },
        {
          "output_type": "stream",
          "name": "stderr",
          "text": [
            "100%|███████████████████████████████████████████████████████████████| 10/10 [01:25<00:00,  8.53s/it]\n"
          ]
        },
        {
          "output_type": "stream",
          "name": "stdout",
          "text": [
            "Round 1 training accuracy: 0.4547008547008547\n",
            "Round 1 testing accuracy: 0.4553\n"
          ]
        }
      ]
    },
    {
      "cell_type": "code",
      "source": [
        "for rd in range(2, 16):\n",
        "    print(f\"Round {rd}\")\n",
        "\n",
        "    # query\n",
        "    query_idxs = strategy.query(100)\n",
        "\n",
        "    # update labels\n",
        "    strategy.update(query_idxs)\n",
        "    strategy.train()\n",
        "\n",
        "    # calculate accuracy on test and training\n",
        "    preds = strategy.predict(dataset.get_train_data()[1])\n",
        "    print(f\"Round {rd} training accuracy: {cal_training_acc(preds)}\")\n",
        "\n",
        "    preds = strategy.predict(dataset.get_test_data())\n",
        "    print(f\"Round {rd} testing accuracy: {dataset.cal_test_acc(preds)}\")\n",
        "    Test_acc_uncertainty_based_Margin_Sampling.append(dataset.cal_test_acc(preds))"
      ],
      "metadata": {
        "colab": {
          "base_uri": "https://localhost:8080/"
        },
        "id": "q9hCk9wBcs7W",
        "outputId": "98612895-a222-46af-9134-2908e94f0f54"
      },
      "execution_count": 34,
      "outputs": [
        {
          "output_type": "stream",
          "name": "stdout",
          "text": [
            "Round 2\n"
          ]
        },
        {
          "output_type": "stream",
          "name": "stderr",
          "text": [
            "100%|███████████████████████████████████████████████████████████████| 10/10 [01:24<00:00,  8.43s/it]\n"
          ]
        },
        {
          "output_type": "stream",
          "name": "stdout",
          "text": [
            "Round 2 training accuracy: 0.6847605224963715\n",
            "Round 2 testing accuracy: 0.6223\n",
            "Round 3\n"
          ]
        },
        {
          "output_type": "stream",
          "name": "stderr",
          "text": [
            "100%|███████████████████████████████████████████████████████████████| 10/10 [01:23<00:00,  8.38s/it]\n"
          ]
        },
        {
          "output_type": "stream",
          "name": "stdout",
          "text": [
            "Round 3 training accuracy: 0.6804063860667634\n",
            "Round 3 testing accuracy: 0.6199\n",
            "Round 4\n"
          ]
        },
        {
          "output_type": "stream",
          "name": "stderr",
          "text": [
            "100%|███████████████████████████████████████████████████████████████| 10/10 [01:29<00:00,  8.99s/it]\n"
          ]
        },
        {
          "output_type": "stream",
          "name": "stdout",
          "text": [
            "Round 4 training accuracy: 0.6755039509756491\n",
            "Round 4 testing accuracy: 0.6223\n",
            "Round 5\n"
          ]
        },
        {
          "output_type": "stream",
          "name": "stderr",
          "text": [
            "100%|███████████████████████████████████████████████████████████████| 10/10 [01:37<00:00,  9.79s/it]\n"
          ]
        },
        {
          "output_type": "stream",
          "name": "stdout",
          "text": [
            "Round 5 training accuracy: 0.6001290114497662\n",
            "Round 5 testing accuracy: 0.5374\n",
            "Round 6\n"
          ]
        },
        {
          "output_type": "stream",
          "name": "stderr",
          "text": [
            "100%|███████████████████████████████████████████████████████████████| 10/10 [01:35<00:00,  9.59s/it]\n"
          ]
        },
        {
          "output_type": "stream",
          "name": "stdout",
          "text": [
            "Round 6 training accuracy: 0.57677793904209\n",
            "Round 6 testing accuracy: 0.5225\n",
            "Round 7\n"
          ]
        },
        {
          "output_type": "stream",
          "name": "stderr",
          "text": [
            "100%|███████████████████████████████████████████████████████████████| 10/10 [01:29<00:00,  8.97s/it]\n"
          ]
        },
        {
          "output_type": "stream",
          "name": "stdout",
          "text": [
            "Round 7 training accuracy: 0.6613126915013707\n",
            "Round 7 testing accuracy: 0.5994\n",
            "Round 8\n"
          ]
        },
        {
          "output_type": "stream",
          "name": "stderr",
          "text": [
            "100%|███████████████████████████████████████████████████████████████| 10/10 [01:28<00:00,  8.86s/it]\n"
          ]
        },
        {
          "output_type": "stream",
          "name": "stdout",
          "text": [
            "Round 8 training accuracy: 0.6577648766328011\n",
            "Round 8 testing accuracy: 0.5957\n",
            "Round 9\n"
          ]
        },
        {
          "output_type": "stream",
          "name": "stderr",
          "text": [
            "100%|███████████████████████████████████████████████████████████████| 10/10 [01:29<00:00,  8.91s/it]\n"
          ]
        },
        {
          "output_type": "stream",
          "name": "stdout",
          "text": [
            "Round 9 training accuracy: 0.7041444928237381\n",
            "Round 9 testing accuracy: 0.6294\n",
            "Round 10\n"
          ]
        },
        {
          "output_type": "stream",
          "name": "stderr",
          "text": [
            "100%|███████████████████████████████████████████████████████████████| 10/10 [01:28<00:00,  8.84s/it]\n"
          ]
        },
        {
          "output_type": "stream",
          "name": "stdout",
          "text": [
            "Round 10 training accuracy: 0.6177713272052895\n",
            "Round 10 testing accuracy: 0.5639\n",
            "Round 11\n"
          ]
        },
        {
          "output_type": "stream",
          "name": "stderr",
          "text": [
            "100%|███████████████████████████████████████████████████████████████| 10/10 [01:30<00:00,  9.04s/it]\n"
          ]
        },
        {
          "output_type": "stream",
          "name": "stdout",
          "text": [
            "Round 11 training accuracy: 0.6671827124657314\n",
            "Round 11 testing accuracy: 0.6009\n",
            "Round 12\n"
          ]
        },
        {
          "output_type": "stream",
          "name": "stderr",
          "text": [
            "100%|███████████████████████████████████████████████████████████████| 10/10 [01:30<00:00,  9.09s/it]\n"
          ]
        },
        {
          "output_type": "stream",
          "name": "stdout",
          "text": [
            "Round 12 training accuracy: 0.6736332849540396\n",
            "Round 12 testing accuracy: 0.6052\n",
            "Round 13\n"
          ]
        },
        {
          "output_type": "stream",
          "name": "stderr",
          "text": [
            "100%|███████████████████████████████████████████████████████████████| 10/10 [01:28<00:00,  8.81s/it]\n"
          ]
        },
        {
          "output_type": "stream",
          "name": "stdout",
          "text": [
            "Round 13 training accuracy: 0.6862119013062409\n",
            "Round 13 testing accuracy: 0.6121\n",
            "Round 14\n"
          ]
        },
        {
          "output_type": "stream",
          "name": "stderr",
          "text": [
            "100%|███████████████████████████████████████████████████████████████| 10/10 [01:27<00:00,  8.78s/it]\n"
          ]
        },
        {
          "output_type": "stream",
          "name": "stdout",
          "text": [
            "Round 14 training accuracy: 0.6898887276245766\n",
            "Round 14 testing accuracy: 0.6172\n",
            "Round 15\n"
          ]
        },
        {
          "output_type": "stream",
          "name": "stderr",
          "text": [
            "100%|███████████████████████████████████████████████████████████████| 10/10 [01:28<00:00,  8.85s/it]\n"
          ]
        },
        {
          "output_type": "stream",
          "name": "stdout",
          "text": [
            "Round 15 training accuracy: 0.6348008385744235\n",
            "Round 15 testing accuracy: 0.5732\n"
          ]
        }
      ]
    },
    {
      "cell_type": "markdown",
      "source": [
        "##**Comparing results**"
      ],
      "metadata": {
        "id": "1bURGWE5iWUX"
      }
    },
    {
      "cell_type": "code",
      "source": [
        "plt.plot(Test_acc_uncertainty_based_Least_Confidence_Sampling, label = 'Least Confidence Sampling')\n",
        "plt.plot(Test_acc_uncertainty_based_Entropy_Sampling, label = 'Entropy-based Sampling')\n",
        "plt.plot(Test_acc_uncertainty_based_Margin_Sampling, label = 'Margin-based Sampling')\n",
        "plt.legend()\n",
        "plt.show()"
      ],
      "metadata": {
        "colab": {
          "base_uri": "https://localhost:8080/",
          "height": 430
        },
        "id": "g0mfFJRijdQ4",
        "outputId": "cb39e6fb-ba7a-4c9c-810d-20a5f56c2853"
      },
      "execution_count": 36,
      "outputs": [
        {
          "output_type": "display_data",
          "data": {
            "text/plain": [
              "<Figure size 640x480 with 1 Axes>"
            ],
            "image/png": "[encoded data removed]"
          },
          "metadata": {}
        }
      ]
    },
    {
      "cell_type": "code",
      "source": [],
      "metadata": {
        "id": "o2xLgMi7um1N"
      },
      "execution_count": null,
      "outputs": []
    }
  ]
}