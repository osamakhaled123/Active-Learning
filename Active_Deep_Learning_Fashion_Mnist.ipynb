{
  "nbformat": 4,
  "nbformat_minor": 0,
  "metadata": {
    "colab": {
      "provenance": [],
      "gpuType": "T4"
    },
    "kernelspec": {
      "name": "python3",
      "display_name": "Python 3"
    },
    "language_info": {
      "name": "python"
    },
    "accelerator": "GPU",
    "gpuClass": "standard"
  },
  "cells": [
    {
      "cell_type": "code",
      "execution_count": 1,
      "metadata": {
        "colab": {
          "base_uri": "https://localhost:8080/"
        },
        "id": "6nrtYu14EV6j",
        "outputId": "7d5a6bb6-f316-4a0a-8dea-5a918658c8bd"
      },
      "outputs": [
        {
          "output_type": "stream",
          "name": "stdout",
          "text": [
            "Cloning into 'deep-active-learning'...\n",
            "remote: Enumerating objects: 232, done.\u001b[K\n",
            "remote: Total 232 (delta 0), reused 0 (delta 0), pack-reused 232\u001b[K\n",
            "Receiving objects: 100% (232/232), 44.12 KiB | 3.39 MiB/s, done.\n",
            "Resolving deltas: 100% (141/141), done.\n"
          ]
        }
      ],
      "source": [
        "!git clone https://github.com/ej0cl6/deep-active-learning.git\n",
        "!cd deep-active-learning"
      ]
    },
    {
      "cell_type": "code",
      "source": [
        "import sys\n",
        "sys.path.append('/content/deep-active-learning')\n",
        "sys.path.append('/content/deep-active-learning/query_strategies')"
      ],
      "metadata": {
        "id": "wqNvGHVEEcYX"
      },
      "execution_count": 2,
      "outputs": []
    },
    {
      "cell_type": "code",
      "source": [
        "import argparse\n",
        "import numpy as np\n",
        "import torch\n",
        "from utils import get_dataset, get_net, get_strategy\n",
        "from pprint import pprint\n",
        "from torchvision import datasets\n",
        "import matplotlib.pyplot as plt"
      ],
      "metadata": {
        "id": "qdhBNXhTEcbA"
      },
      "execution_count": 3,
      "outputs": []
    },
    {
      "cell_type": "code",
      "source": [
        "use_cuda = torch.cuda.is_available()\n",
        "device = torch.device(\"cuda\" if use_cuda else \"cpu\")"
      ],
      "metadata": {
        "id": "ThTKXO_oEceC"
      },
      "execution_count": 4,
      "outputs": []
    },
    {
      "cell_type": "code",
      "source": [
        "dataset = get_dataset('FashionMNIST')                   # load dataset\n",
        "net = get_net('FashionMNIST', device)                   # load network\n",
        "#strategy = get_strategy('LeastConfidence')(dataset, net)"
      ],
      "metadata": {
        "colab": {
          "base_uri": "https://localhost:8080/"
        },
        "id": "CmQkrt5FEcgV",
        "outputId": "e19dad83-ed7b-4451-f58c-8648856a5acb"
      },
      "execution_count": 5,
      "outputs": [
        {
          "output_type": "stream",
          "name": "stdout",
          "text": [
            "Downloading http://fashion-mnist.s3-website.eu-central-1.amazonaws.com/train-images-idx3-ubyte.gz\n",
            "Downloading http://fashion-mnist.s3-website.eu-central-1.amazonaws.com/train-images-idx3-ubyte.gz to ./data/FashionMNIST/FashionMNIST/raw/train-images-idx3-ubyte.gz\n"
          ]
        },
        {
          "output_type": "stream",
          "name": "stderr",
          "text": [
            "100%|██████████| 26421880/26421880 [00:02<00:00, 11705043.48it/s]\n"
          ]
        },
        {
          "output_type": "stream",
          "name": "stdout",
          "text": [
            "Extracting ./data/FashionMNIST/FashionMNIST/raw/train-images-idx3-ubyte.gz to ./data/FashionMNIST/FashionMNIST/raw\n",
            "\n",
            "Downloading http://fashion-mnist.s3-website.eu-central-1.amazonaws.com/train-labels-idx1-ubyte.gz\n",
            "Downloading http://fashion-mnist.s3-website.eu-central-1.amazonaws.com/train-labels-idx1-ubyte.gz to ./data/FashionMNIST/FashionMNIST/raw/train-labels-idx1-ubyte.gz\n"
          ]
        },
        {
          "output_type": "stream",
          "name": "stderr",
          "text": [
            "100%|██████████| 29515/29515 [00:00<00:00, 207407.12it/s]\n"
          ]
        },
        {
          "output_type": "stream",
          "name": "stdout",
          "text": [
            "Extracting ./data/FashionMNIST/FashionMNIST/raw/train-labels-idx1-ubyte.gz to ./data/FashionMNIST/FashionMNIST/raw\n",
            "\n",
            "Downloading http://fashion-mnist.s3-website.eu-central-1.amazonaws.com/t10k-images-idx3-ubyte.gz\n",
            "Downloading http://fashion-mnist.s3-website.eu-central-1.amazonaws.com/t10k-images-idx3-ubyte.gz to ./data/FashionMNIST/FashionMNIST/raw/t10k-images-idx3-ubyte.gz\n"
          ]
        },
        {
          "output_type": "stream",
          "name": "stderr",
          "text": [
            "100%|██████████| 4422102/4422102 [00:01<00:00, 3911353.06it/s]\n"
          ]
        },
        {
          "output_type": "stream",
          "name": "stdout",
          "text": [
            "Extracting ./data/FashionMNIST/FashionMNIST/raw/t10k-images-idx3-ubyte.gz to ./data/FashionMNIST/FashionMNIST/raw\n",
            "\n",
            "Downloading http://fashion-mnist.s3-website.eu-central-1.amazonaws.com/t10k-labels-idx1-ubyte.gz\n",
            "Downloading http://fashion-mnist.s3-website.eu-central-1.amazonaws.com/t10k-labels-idx1-ubyte.gz to ./data/FashionMNIST/FashionMNIST/raw/t10k-labels-idx1-ubyte.gz\n"
          ]
        },
        {
          "output_type": "stream",
          "name": "stderr",
          "text": [
            "100%|██████████| 5148/5148 [00:00<00:00, 8247622.99it/s]"
          ]
        },
        {
          "output_type": "stream",
          "name": "stdout",
          "text": [
            "Extracting ./data/FashionMNIST/FashionMNIST/raw/t10k-labels-idx1-ubyte.gz to ./data/FashionMNIST/FashionMNIST/raw\n",
            "\n"
          ]
        },
        {
          "output_type": "stream",
          "name": "stderr",
          "text": [
            "\n"
          ]
        }
      ]
    },
    {
      "cell_type": "code",
      "source": [
        "np.unique(dataset.Y_train, return_counts = True)"
      ],
      "metadata": {
        "colab": {
          "base_uri": "https://localhost:8080/"
        },
        "id": "tUHb1jHrEci6",
        "outputId": "7b9bb32a-e9df-460f-81bf-43b8f078b557"
      },
      "execution_count": 6,
      "outputs": [
        {
          "output_type": "execute_result",
          "data": {
            "text/plain": [
              "(array([0, 1, 2, 3, 4, 5, 6, 7, 8, 9]),\n",
              " array([3981, 3996, 3935, 4022, 3957, 4017, 4066, 4042, 4000, 3984]))"
            ]
          },
          "metadata": {},
          "execution_count": 6
        }
      ]
    },
    {
      "cell_type": "code",
      "source": [
        "dataset.X_train.shape ,dataset.Y_train.shape"
      ],
      "metadata": {
        "colab": {
          "base_uri": "https://localhost:8080/"
        },
        "id": "lS16wJDEEclb",
        "outputId": "d6c2c8e3-37c8-458f-abcb-9bb5e04ffa78"
      },
      "execution_count": 7,
      "outputs": [
        {
          "output_type": "execute_result",
          "data": {
            "text/plain": [
              "(torch.Size([40000, 28, 28]), torch.Size([40000]))"
            ]
          },
          "metadata": {},
          "execution_count": 7
        }
      ]
    },
    {
      "cell_type": "code",
      "source": [
        "plt.hist(dataset.Y_train);"
      ],
      "metadata": {
        "colab": {
          "base_uri": "https://localhost:8080/",
          "height": 430
        },
        "id": "E3yC5YJjEcoI",
        "outputId": "9f610027-974c-4fb2-cbb6-61c4b412a71c"
      },
      "execution_count": 8,
      "outputs": [
        {
          "output_type": "display_data",
          "data": {
            "text/plain": [
              "<Figure size 640x480 with 1 Axes>"
            ],
            "image/png": "[encoded data removed]"
          },
          "metadata": {}
        }
      ]
    },
    {
      "cell_type": "code",
      "source": [
        "net.params['n_epoch'] = 10"
      ],
      "metadata": {
        "id": "_jvtCJaWEcqo"
      },
      "execution_count": 9,
      "outputs": []
    },
    {
      "cell_type": "code",
      "source": [
        "def cal_training_acc(preds):\n",
        "        return 1.0 * (dataset.Y_train==preds).sum().item() / dataset.n_pool"
      ],
      "metadata": {
        "id": "_unIAcELE1sB"
      },
      "execution_count": 10,
      "outputs": []
    },
    {
      "cell_type": "markdown",
      "source": [
        "##**Uncertainty sampling (Least Confidence) strategy**\n"
      ],
      "metadata": {
        "id": "aZTUk-OkE4Uq"
      }
    },
    {
      "cell_type": "code",
      "source": [
        "strategy = get_strategy('LeastConfidence')(dataset, net)"
      ],
      "metadata": {
        "id": "AJ7nO8SRE1uo"
      },
      "execution_count": 11,
      "outputs": []
    },
    {
      "cell_type": "code",
      "source": [
        "# start experiment\n",
        "init = 10000\n",
        "dataset.initialize_labels(init)\n",
        "print(f\"number of labeled pool: {init}\")\n",
        "print(f\"number of unlabeled pool: {dataset.n_pool-init}\")\n",
        "print(f\"number of testing pool: {dataset.n_test}\")\n",
        "print()"
      ],
      "metadata": {
        "colab": {
          "base_uri": "https://localhost:8080/"
        },
        "id": "oYbwYqunE1xE",
        "outputId": "e5257dd7-8686-44ff-8c28-086747b96a24"
      },
      "execution_count": 12,
      "outputs": [
        {
          "output_type": "stream",
          "name": "stdout",
          "text": [
            "number of labeled pool: 10000\n",
            "number of unlabeled pool: 30000\n",
            "number of testing pool: 10000\n",
            "\n"
          ]
        }
      ]
    },
    {
      "cell_type": "code",
      "source": [
        "Test_acc_uncertainty_based_Least_Confidence_Sampling = []"
      ],
      "metadata": {
        "id": "ma-iPMJ_E1zf"
      },
      "execution_count": 13,
      "outputs": []
    },
    {
      "cell_type": "code",
      "source": [
        "# round 1 accuracy\n",
        "print(\"Round 1\")\n",
        "strategy.train()\n",
        "# no. Epoch is 10\n",
        "preds = strategy.predict(dataset.get_train_data()[1])\n",
        "print(f\"Round 1 training accuracy: {cal_training_acc(preds)}\")\n",
        "\n",
        "preds = strategy.predict(dataset.get_test_data())\n",
        "print(f\"Round 1 testing accuracy: {dataset.cal_test_acc(preds)}\")\n",
        "Test_acc_uncertainty_based_Least_Confidence_Sampling.append(dataset.cal_test_acc(preds))"
      ],
      "metadata": {
        "colab": {
          "base_uri": "https://localhost:8080/"
        },
        "id": "1GsntrNDE9Ku",
        "outputId": "ecd1a563-e711-40ed-fb68-18e41d1dd227"
      },
      "execution_count": 14,
      "outputs": [
        {
          "output_type": "stream",
          "name": "stdout",
          "text": [
            "Round 1\n"
          ]
        },
        {
          "output_type": "stream",
          "name": "stderr",
          "text": [
            "100%|███████████████████████████████████████████████████████████████| 10/10 [00:38<00:00,  3.85s/it]\n"
          ]
        },
        {
          "output_type": "stream",
          "name": "stdout",
          "text": [
            "Round 1 training accuracy: 0.780475\n",
            "Round 1 testing accuracy: 0.7691\n"
          ]
        }
      ]
    },
    {
      "cell_type": "code",
      "source": [
        "for rd in range(2, 16):\n",
        "    print(f\"Round {rd}\")\n",
        "\n",
        "    # query\n",
        "    query_idxs = strategy.query(100)\n",
        "\n",
        "    # update labels\n",
        "    strategy.update(query_idxs)\n",
        "    strategy.train()\n",
        "\n",
        "    # calculate accuracy on test and training\n",
        "    preds = strategy.predict(dataset.get_train_data()[1])\n",
        "    print(f\"Round {rd} training accuracy: {cal_training_acc(preds)}\")\n",
        "\n",
        "    preds = strategy.predict(dataset.get_test_data())\n",
        "    print(f\"Round {rd} testing accuracy: {dataset.cal_test_acc(preds)}\")\n",
        "    Test_acc_uncertainty_based_Least_Confidence_Sampling.append(dataset.cal_test_acc(preds))"
      ],
      "metadata": {
        "colab": {
          "base_uri": "https://localhost:8080/"
        },
        "id": "K0zj59OeE9Ns",
        "outputId": "afbf420c-be88-45a6-f575-d252fc593fab"
      },
      "execution_count": 15,
      "outputs": [
        {
          "metadata": {
            "tags": null
          },
          "name": "stdout",
          "output_type": "stream",
          "text": [
            "Round 2\n"
          ]
        },
        {
          "metadata": {
            "tags": null
          },
          "name": "stderr",
          "output_type": "stream",
          "text": [
            "100%|███████████████████████████████████████████████████████████████| 10/10 [00:30<00:00,  3.07s/it]\n"
          ]
        },
        {
          "metadata": {
            "tags": null
          },
          "name": "stdout",
          "output_type": "stream",
          "text": [
            "Round 2 training accuracy: 0.781325\n",
            "Round 2 testing accuracy: 0.7723\n",
            "Round 3\n"
          ]
        },
        {
          "metadata": {
            "tags": null
          },
          "name": "stderr",
          "output_type": "stream",
          "text": [
            "100%|███████████████████████████████████████████████████████████████| 10/10 [00:31<00:00,  3.12s/it]\n"
          ]
        },
        {
          "metadata": {
            "tags": null
          },
          "name": "stdout",
          "output_type": "stream",
          "text": [
            "Round 3 training accuracy: 0.778875\n",
            "Round 3 testing accuracy: 0.7661\n",
            "Round 4\n"
          ]
        },
        {
          "metadata": {
            "tags": null
          },
          "name": "stderr",
          "output_type": "stream",
          "text": [
            "100%|███████████████████████████████████████████████████████████████| 10/10 [00:31<00:00,  3.10s/it]\n"
          ]
        },
        {
          "metadata": {
            "tags": null
          },
          "name": "stdout",
          "output_type": "stream",
          "text": [
            "Round 4 training accuracy: 0.76725\n",
            "Round 4 testing accuracy: 0.7542\n",
            "Round 5\n"
          ]
        },
        {
          "metadata": {
            "tags": null
          },
          "name": "stderr",
          "output_type": "stream",
          "text": [
            "100%|███████████████████████████████████████████████████████████████| 10/10 [00:31<00:00,  3.18s/it]\n"
          ]
        },
        {
          "metadata": {
            "tags": null
          },
          "name": "stdout",
          "output_type": "stream",
          "text": [
            "Round 5 training accuracy: 0.787375\n",
            "Round 5 testing accuracy: 0.7815\n",
            "Round 6\n"
          ]
        },
        {
          "metadata": {
            "tags": null
          },
          "name": "stderr",
          "output_type": "stream",
          "text": [
            "100%|███████████████████████████████████████████████████████████████| 10/10 [00:32<00:00,  3.23s/it]\n"
          ]
        },
        {
          "metadata": {
            "tags": null
          },
          "name": "stdout",
          "output_type": "stream",
          "text": [
            "Round 6 training accuracy: 0.77995\n",
            "Round 6 testing accuracy: 0.7714\n",
            "Round 7\n"
          ]
        },
        {
          "metadata": {
            "tags": null
          },
          "name": "stderr",
          "output_type": "stream",
          "text": [
            "100%|███████████████████████████████████████████████████████████████| 10/10 [00:32<00:00,  3.26s/it]\n"
          ]
        },
        {
          "metadata": {
            "tags": null
          },
          "name": "stdout",
          "output_type": "stream",
          "text": [
            "Round 7 training accuracy: 0.775975\n",
            "Round 7 testing accuracy: 0.765\n",
            "Round 8\n"
          ]
        },
        {
          "metadata": {
            "tags": null
          },
          "name": "stderr",
          "output_type": "stream",
          "text": [
            "100%|███████████████████████████████████████████████████████████████| 10/10 [00:32<00:00,  3.25s/it]\n"
          ]
        },
        {
          "metadata": {
            "tags": null
          },
          "name": "stdout",
          "output_type": "stream",
          "text": [
            "Round 8 training accuracy: 0.77905\n",
            "Round 8 testing accuracy: 0.7729\n",
            "Round 9\n"
          ]
        },
        {
          "output_type": "stream",
          "name": "stderr",
          "text": [
            "100%|███████████████████████████████████████████████████████████████| 10/10 [00:33<00:00,  3.31s/it]\n"
          ]
        },
        {
          "output_type": "stream",
          "name": "stdout",
          "text": [
            "Round 9 training accuracy: 0.78025\n",
            "Round 9 testing accuracy: 0.7687\n",
            "Round 10\n"
          ]
        },
        {
          "output_type": "stream",
          "name": "stderr",
          "text": [
            "100%|███████████████████████████████████████████████████████████████| 10/10 [00:33<00:00,  3.35s/it]\n"
          ]
        },
        {
          "output_type": "stream",
          "name": "stdout",
          "text": [
            "Round 10 training accuracy: 0.775375\n",
            "Round 10 testing accuracy: 0.7663\n",
            "Round 11\n"
          ]
        },
        {
          "output_type": "stream",
          "name": "stderr",
          "text": [
            "100%|███████████████████████████████████████████████████████████████| 10/10 [00:33<00:00,  3.37s/it]\n"
          ]
        },
        {
          "output_type": "stream",
          "name": "stdout",
          "text": [
            "Round 11 training accuracy: 0.782375\n",
            "Round 11 testing accuracy: 0.7719\n",
            "Round 12\n"
          ]
        },
        {
          "output_type": "stream",
          "name": "stderr",
          "text": [
            "100%|███████████████████████████████████████████████████████████████| 10/10 [00:33<00:00,  3.39s/it]\n"
          ]
        },
        {
          "output_type": "stream",
          "name": "stdout",
          "text": [
            "Round 12 training accuracy: 0.78295\n",
            "Round 12 testing accuracy: 0.7764\n",
            "Round 13\n"
          ]
        },
        {
          "output_type": "stream",
          "name": "stderr",
          "text": [
            "100%|███████████████████████████████████████████████████████████████| 10/10 [00:33<00:00,  3.40s/it]\n"
          ]
        },
        {
          "output_type": "stream",
          "name": "stdout",
          "text": [
            "Round 13 training accuracy: 0.777925\n",
            "Round 13 testing accuracy: 0.7708\n",
            "Round 14\n"
          ]
        },
        {
          "output_type": "stream",
          "name": "stderr",
          "text": [
            "100%|███████████████████████████████████████████████████████████████| 10/10 [00:34<00:00,  3.43s/it]\n"
          ]
        },
        {
          "output_type": "stream",
          "name": "stdout",
          "text": [
            "Round 14 training accuracy: 0.78035\n",
            "Round 14 testing accuracy: 0.7774\n",
            "Round 15\n"
          ]
        },
        {
          "output_type": "stream",
          "name": "stderr",
          "text": [
            "100%|███████████████████████████████████████████████████████████████| 10/10 [00:34<00:00,  3.49s/it]\n"
          ]
        },
        {
          "output_type": "stream",
          "name": "stdout",
          "text": [
            "Round 15 training accuracy: 0.78485\n",
            "Round 15 testing accuracy: 0.7741\n"
          ]
        }
      ]
    },
    {
      "cell_type": "markdown",
      "source": [
        "##**Uncertainty sampling (Entropy Sampling Dropout) strategy**"
      ],
      "metadata": {
        "id": "6-YlCtOYFFV0"
      }
    },
    {
      "cell_type": "code",
      "source": [
        "# start experiment\n",
        "init = 10000\n",
        "dataset.initialize_labels(init)\n",
        "print(f\"number of labeled pool: {init}\")\n",
        "print(f\"number of unlabeled pool: {dataset.n_pool-init}\")\n",
        "print(f\"number of testing pool: {dataset.n_test}\")\n",
        "print()"
      ],
      "metadata": {
        "colab": {
          "base_uri": "https://localhost:8080/"
        },
        "id": "AW4gJgTAE9QA",
        "outputId": "be606b9d-74b7-4da4-ee0b-f3b86c6d3e7d"
      },
      "execution_count": 16,
      "outputs": [
        {
          "output_type": "stream",
          "name": "stdout",
          "text": [
            "number of labeled pool: 10000\n",
            "number of unlabeled pool: 30000\n",
            "number of testing pool: 10000\n",
            "\n"
          ]
        }
      ]
    },
    {
      "cell_type": "code",
      "source": [
        "strategy = get_strategy('EntropySamplingDropout')(dataset, net)"
      ],
      "metadata": {
        "id": "ADvZCxG4E9Sq"
      },
      "execution_count": 17,
      "outputs": []
    },
    {
      "cell_type": "code",
      "source": [
        "Test_acc_uncertainty_based_Entropy_Sampling = []"
      ],
      "metadata": {
        "id": "_GW1QqLsE9VY"
      },
      "execution_count": 18,
      "outputs": []
    },
    {
      "cell_type": "code",
      "source": [
        "# round 1 accuracy\n",
        "print(\"Round 1\")\n",
        "strategy.train()\n",
        "# no. Epoch is 10\n",
        "preds = strategy.predict(dataset.get_train_data()[1])\n",
        "print(f\"Round 1 training accuracy: {cal_training_acc(preds)}\")\n",
        "\n",
        "preds = strategy.predict(dataset.get_test_data())\n",
        "print(f\"Round 1 testing accuracy: {dataset.cal_test_acc(preds)}\")\n",
        "Test_acc_uncertainty_based_Entropy_Sampling.append(dataset.cal_test_acc(preds))"
      ],
      "metadata": {
        "colab": {
          "base_uri": "https://localhost:8080/"
        },
        "id": "gqpWnXbgE9YT",
        "outputId": "89387d29-4516-4eba-abc6-ff5081aff312"
      },
      "execution_count": 19,
      "outputs": [
        {
          "output_type": "stream",
          "name": "stdout",
          "text": [
            "Round 1\n"
          ]
        },
        {
          "output_type": "stream",
          "name": "stderr",
          "text": [
            "100%|███████████████████████████████████████████████████████████████| 10/10 [00:55<00:00,  5.59s/it]\n"
          ]
        },
        {
          "output_type": "stream",
          "name": "stdout",
          "text": [
            "Round 1 training accuracy: 0.80585\n",
            "Round 1 testing accuracy: 0.7949\n"
          ]
        }
      ]
    },
    {
      "cell_type": "code",
      "source": [
        "for rd in range(2, 16):\n",
        "    print(f\"Round {rd}\")\n",
        "\n",
        "    # query\n",
        "    query_idxs = strategy.query(100)\n",
        "\n",
        "    # update labels\n",
        "    strategy.update(query_idxs)\n",
        "    strategy.train()\n",
        "\n",
        "    # calculate accuracy on test and training\n",
        "    preds = strategy.predict(dataset.get_train_data()[1])\n",
        "    print(f\"Round {rd} training accuracy: {cal_training_acc(preds)}\")\n",
        "\n",
        "    preds = strategy.predict(dataset.get_test_data())\n",
        "    print(f\"Round {rd} testing accuracy: {dataset.cal_test_acc(preds)}\")\n",
        "    Test_acc_uncertainty_based_Entropy_Sampling.append(dataset.cal_test_acc(preds))"
      ],
      "metadata": {
        "colab": {
          "base_uri": "https://localhost:8080/"
        },
        "id": "Qoi8HaCNE12b",
        "outputId": "d41d9805-e249-4a48-c3b0-3263eda6ad68"
      },
      "execution_count": 20,
      "outputs": [
        {
          "metadata": {
            "tags": null
          },
          "name": "stdout",
          "output_type": "stream",
          "text": [
            "Round 2\n"
          ]
        },
        {
          "metadata": {
            "tags": null
          },
          "name": "stderr",
          "output_type": "stream",
          "text": [
            "100%|███████████████████████████████████████████████████████████████| 10/10 [00:55<00:00,  5.54s/it]\n"
          ]
        },
        {
          "metadata": {
            "tags": null
          },
          "name": "stdout",
          "output_type": "stream",
          "text": [
            "Round 2 training accuracy: 0.805625\n",
            "Round 2 testing accuracy: 0.7937\n",
            "Round 3\n"
          ]
        },
        {
          "metadata": {
            "tags": null
          },
          "name": "stderr",
          "output_type": "stream",
          "text": [
            "100%|███████████████████████████████████████████████████████████████| 10/10 [00:56<00:00,  5.63s/it]\n"
          ]
        },
        {
          "metadata": {
            "tags": null
          },
          "name": "stdout",
          "output_type": "stream",
          "text": [
            "Round 3 training accuracy: 0.79875\n",
            "Round 3 testing accuracy: 0.7908\n",
            "Round 4\n"
          ]
        },
        {
          "metadata": {
            "tags": null
          },
          "name": "stderr",
          "output_type": "stream",
          "text": [
            "100%|███████████████████████████████████████████████████████████████| 10/10 [00:56<00:00,  5.66s/it]\n"
          ]
        },
        {
          "metadata": {
            "tags": null
          },
          "name": "stdout",
          "output_type": "stream",
          "text": [
            "Round 4 training accuracy: 0.79785\n",
            "Round 4 testing accuracy: 0.7858\n",
            "Round 5\n"
          ]
        },
        {
          "metadata": {
            "tags": null
          },
          "name": "stderr",
          "output_type": "stream",
          "text": [
            "100%|███████████████████████████████████████████████████████████████| 10/10 [00:56<00:00,  5.68s/it]\n"
          ]
        },
        {
          "metadata": {
            "tags": null
          },
          "name": "stdout",
          "output_type": "stream",
          "text": [
            "Round 5 training accuracy: 0.80025\n",
            "Round 5 testing accuracy: 0.7966\n",
            "Round 6\n"
          ]
        },
        {
          "metadata": {
            "tags": null
          },
          "name": "stderr",
          "output_type": "stream",
          "text": [
            "100%|███████████████████████████████████████████████████████████████| 10/10 [00:57<00:00,  5.70s/it]\n"
          ]
        },
        {
          "metadata": {
            "tags": null
          },
          "name": "stdout",
          "output_type": "stream",
          "text": [
            "Round 6 training accuracy: 0.79145\n",
            "Round 6 testing accuracy: 0.7839\n",
            "Round 7\n"
          ]
        },
        {
          "metadata": {
            "tags": null
          },
          "name": "stderr",
          "output_type": "stream",
          "text": [
            "100%|███████████████████████████████████████████████████████████████| 10/10 [00:57<00:00,  5.74s/it]\n"
          ]
        },
        {
          "metadata": {
            "tags": null
          },
          "name": "stdout",
          "output_type": "stream",
          "text": [
            "Round 7 training accuracy: 0.8133\n",
            "Round 7 testing accuracy: 0.801\n",
            "Round 8\n"
          ]
        },
        {
          "metadata": {
            "tags": null
          },
          "name": "stderr",
          "output_type": "stream",
          "text": [
            "100%|███████████████████████████████████████████████████████████████| 10/10 [00:58<00:00,  5.82s/it]\n"
          ]
        },
        {
          "metadata": {
            "tags": null
          },
          "name": "stdout",
          "output_type": "stream",
          "text": [
            "Round 8 training accuracy: 0.797725\n",
            "Round 8 testing accuracy: 0.7859\n",
            "Round 9\n"
          ]
        },
        {
          "metadata": {
            "tags": null
          },
          "name": "stderr",
          "output_type": "stream",
          "text": [
            "100%|███████████████████████████████████████████████████████████████| 10/10 [00:58<00:00,  5.80s/it]\n"
          ]
        },
        {
          "metadata": {
            "tags": null
          },
          "name": "stdout",
          "output_type": "stream",
          "text": [
            "Round 9 training accuracy: 0.805925\n",
            "Round 9 testing accuracy: 0.7937\n",
            "Round 10\n"
          ]
        },
        {
          "output_type": "stream",
          "name": "stderr",
          "text": [
            "100%|███████████████████████████████████████████████████████████████| 10/10 [00:58<00:00,  5.83s/it]\n"
          ]
        },
        {
          "output_type": "stream",
          "name": "stdout",
          "text": [
            "Round 10 training accuracy: 0.788525\n",
            "Round 10 testing accuracy: 0.7777\n",
            "Round 11\n"
          ]
        },
        {
          "output_type": "stream",
          "name": "stderr",
          "text": [
            "100%|███████████████████████████████████████████████████████████████| 10/10 [00:58<00:00,  5.85s/it]\n"
          ]
        },
        {
          "output_type": "stream",
          "name": "stdout",
          "text": [
            "Round 11 training accuracy: 0.804125\n",
            "Round 11 testing accuracy: 0.7945\n",
            "Round 12\n"
          ]
        },
        {
          "output_type": "stream",
          "name": "stderr",
          "text": [
            "100%|███████████████████████████████████████████████████████████████| 10/10 [00:58<00:00,  5.88s/it]\n"
          ]
        },
        {
          "output_type": "stream",
          "name": "stdout",
          "text": [
            "Round 12 training accuracy: 0.810725\n",
            "Round 12 testing accuracy: 0.8003\n",
            "Round 13\n"
          ]
        },
        {
          "output_type": "stream",
          "name": "stderr",
          "text": [
            "100%|███████████████████████████████████████████████████████████████| 10/10 [00:59<00:00,  5.93s/it]\n"
          ]
        },
        {
          "output_type": "stream",
          "name": "stdout",
          "text": [
            "Round 13 training accuracy: 0.803825\n",
            "Round 13 testing accuracy: 0.7957\n",
            "Round 14\n"
          ]
        },
        {
          "output_type": "stream",
          "name": "stderr",
          "text": [
            "100%|███████████████████████████████████████████████████████████████| 10/10 [01:00<00:00,  6.00s/it]\n"
          ]
        },
        {
          "output_type": "stream",
          "name": "stdout",
          "text": [
            "Round 14 training accuracy: 0.80395\n",
            "Round 14 testing accuracy: 0.7922\n",
            "Round 15\n"
          ]
        },
        {
          "output_type": "stream",
          "name": "stderr",
          "text": [
            "100%|███████████████████████████████████████████████████████████████| 10/10 [00:59<00:00,  5.99s/it]\n"
          ]
        },
        {
          "output_type": "stream",
          "name": "stdout",
          "text": [
            "Round 15 training accuracy: 0.804225\n",
            "Round 15 testing accuracy: 0.7936\n"
          ]
        }
      ]
    },
    {
      "cell_type": "markdown",
      "source": [
        "##**Uncertainty sampling (Margin Sampling) strategy**\n"
      ],
      "metadata": {
        "id": "z65R9SvfFhS3"
      }
    },
    {
      "cell_type": "code",
      "source": [
        "# start experiment\n",
        "init = 10000\n",
        "dataset.initialize_labels(init)\n",
        "print(f\"number of labeled pool: {init}\")\n",
        "print(f\"number of unlabeled pool: {dataset.n_pool-init}\")\n",
        "print(f\"number of testing pool: {dataset.n_test}\")\n",
        "print()"
      ],
      "metadata": {
        "colab": {
          "base_uri": "https://localhost:8080/"
        },
        "id": "lz61rW96FVEm",
        "outputId": "3c7fdc51-24d3-44b5-acd6-beee0c812050"
      },
      "execution_count": 11,
      "outputs": [
        {
          "output_type": "stream",
          "name": "stdout",
          "text": [
            "number of labeled pool: 10000\n",
            "number of unlabeled pool: 30000\n",
            "number of testing pool: 10000\n",
            "\n"
          ]
        }
      ]
    },
    {
      "cell_type": "code",
      "source": [
        "strategy = get_strategy('MarginSampling')(dataset, net)"
      ],
      "metadata": {
        "id": "QmFSQ9K6FVHg"
      },
      "execution_count": 12,
      "outputs": []
    },
    {
      "cell_type": "code",
      "source": [
        "Test_acc_uncertainty_based_Margin_Sampling = []"
      ],
      "metadata": {
        "id": "wDzHG1bKFVKM"
      },
      "execution_count": 13,
      "outputs": []
    },
    {
      "cell_type": "code",
      "source": [
        "# round 1 accuracy\n",
        "print(\"Round 1\")\n",
        "strategy.train()\n",
        "# no. Epoch is 10\n",
        "preds = strategy.predict(dataset.get_train_data()[1])\n",
        "print(f\"Round 1 training accuracy: {cal_training_acc(preds)}\")\n",
        "\n",
        "preds = strategy.predict(dataset.get_test_data())\n",
        "print(f\"Round 1 testing accuracy: {dataset.cal_test_acc(preds)}\")\n",
        "Test_acc_uncertainty_based_Margin_Sampling.append(dataset.cal_test_acc(preds))"
      ],
      "metadata": {
        "colab": {
          "base_uri": "https://localhost:8080/"
        },
        "id": "GO8hVQwjFVNX",
        "outputId": "f3ed3e23-98c6-44d3-c46e-b12e4fbe6ed3"
      },
      "execution_count": 14,
      "outputs": [
        {
          "output_type": "stream",
          "name": "stdout",
          "text": [
            "Round 1\n"
          ]
        },
        {
          "output_type": "stream",
          "name": "stderr",
          "text": [
            "100%|███████████████████████████████████████████████████████████████| 10/10 [00:38<00:00,  3.84s/it]\n"
          ]
        },
        {
          "output_type": "stream",
          "name": "stdout",
          "text": [
            "Round 1 training accuracy: 0.7714\n",
            "Round 1 testing accuracy: 0.7634\n"
          ]
        }
      ]
    },
    {
      "cell_type": "code",
      "source": [
        "for rd in range(2, 16):\n",
        "    print(f\"Round {rd}\")\n",
        "\n",
        "    # query\n",
        "    query_idxs = strategy.query(100)\n",
        "\n",
        "    # update labels\n",
        "    strategy.update(query_idxs)\n",
        "    strategy.train()\n",
        "\n",
        "    # calculate accuracy on test and training\n",
        "    preds = strategy.predict(dataset.get_train_data()[1])\n",
        "    print(f\"Round {rd} training accuracy: {cal_training_acc(preds)}\")\n",
        "\n",
        "    preds = strategy.predict(dataset.get_test_data())\n",
        "    print(f\"Round {rd} testing accuracy: {dataset.cal_test_acc(preds)}\")\n",
        "    Test_acc_uncertainty_based_Margin_Sampling.append(dataset.cal_test_acc(preds))"
      ],
      "metadata": {
        "colab": {
          "base_uri": "https://localhost:8080/"
        },
        "id": "abHTyY7kFr94",
        "outputId": "67c2d802-5cfc-4594-ba79-7c584987115c"
      },
      "execution_count": 15,
      "outputs": [
        {
          "output_type": "stream",
          "name": "stdout",
          "text": [
            "Round 2\n"
          ]
        },
        {
          "output_type": "stream",
          "name": "stderr",
          "text": [
            "100%|███████████████████████████████████████████████████████████████| 10/10 [00:40<00:00,  4.07s/it]\n"
          ]
        },
        {
          "output_type": "stream",
          "name": "stdout",
          "text": [
            "Round 2 training accuracy: 0.77255\n",
            "Round 2 testing accuracy: 0.7669\n",
            "Round 3\n"
          ]
        },
        {
          "output_type": "stream",
          "name": "stderr",
          "text": [
            "100%|███████████████████████████████████████████████████████████████| 10/10 [00:33<00:00,  3.37s/it]\n"
          ]
        },
        {
          "output_type": "stream",
          "name": "stdout",
          "text": [
            "Round 3 training accuracy: 0.773325\n",
            "Round 3 testing accuracy: 0.7667\n",
            "Round 4\n"
          ]
        },
        {
          "output_type": "stream",
          "name": "stderr",
          "text": [
            "100%|███████████████████████████████████████████████████████████████| 10/10 [00:33<00:00,  3.34s/it]\n"
          ]
        },
        {
          "output_type": "stream",
          "name": "stdout",
          "text": [
            "Round 4 training accuracy: 0.7762\n",
            "Round 4 testing accuracy: 0.7683\n",
            "Round 5\n"
          ]
        },
        {
          "output_type": "stream",
          "name": "stderr",
          "text": [
            "100%|███████████████████████████████████████████████████████████████| 10/10 [00:33<00:00,  3.32s/it]\n"
          ]
        },
        {
          "output_type": "stream",
          "name": "stdout",
          "text": [
            "Round 5 training accuracy: 0.777425\n",
            "Round 5 testing accuracy: 0.7689\n",
            "Round 6\n"
          ]
        },
        {
          "output_type": "stream",
          "name": "stderr",
          "text": [
            "100%|███████████████████████████████████████████████████████████████| 10/10 [00:32<00:00,  3.29s/it]\n"
          ]
        },
        {
          "output_type": "stream",
          "name": "stdout",
          "text": [
            "Round 6 training accuracy: 0.7767\n",
            "Round 6 testing accuracy: 0.7715\n",
            "Round 7\n"
          ]
        },
        {
          "output_type": "stream",
          "name": "stderr",
          "text": [
            "100%|███████████████████████████████████████████████████████████████| 10/10 [00:33<00:00,  3.33s/it]\n"
          ]
        },
        {
          "output_type": "stream",
          "name": "stdout",
          "text": [
            "Round 7 training accuracy: 0.76915\n",
            "Round 7 testing accuracy: 0.7609\n",
            "Round 8\n"
          ]
        },
        {
          "output_type": "stream",
          "name": "stderr",
          "text": [
            "100%|███████████████████████████████████████████████████████████████| 10/10 [00:34<00:00,  3.41s/it]\n"
          ]
        },
        {
          "output_type": "stream",
          "name": "stdout",
          "text": [
            "Round 8 training accuracy: 0.760975\n",
            "Round 8 testing accuracy: 0.7536\n",
            "Round 9\n"
          ]
        },
        {
          "output_type": "stream",
          "name": "stderr",
          "text": [
            "100%|███████████████████████████████████████████████████████████████| 10/10 [00:34<00:00,  3.46s/it]\n"
          ]
        },
        {
          "output_type": "stream",
          "name": "stdout",
          "text": [
            "Round 9 training accuracy: 0.778975\n",
            "Round 9 testing accuracy: 0.7722\n",
            "Round 10\n"
          ]
        },
        {
          "output_type": "stream",
          "name": "stderr",
          "text": [
            "100%|███████████████████████████████████████████████████████████████| 10/10 [00:35<00:00,  3.51s/it]\n"
          ]
        },
        {
          "output_type": "stream",
          "name": "stdout",
          "text": [
            "Round 10 training accuracy: 0.777925\n",
            "Round 10 testing accuracy: 0.7652\n",
            "Round 11\n"
          ]
        },
        {
          "output_type": "stream",
          "name": "stderr",
          "text": [
            "100%|███████████████████████████████████████████████████████████████| 10/10 [00:34<00:00,  3.50s/it]\n"
          ]
        },
        {
          "output_type": "stream",
          "name": "stdout",
          "text": [
            "Round 11 training accuracy: 0.77815\n",
            "Round 11 testing accuracy: 0.7706\n",
            "Round 12\n"
          ]
        },
        {
          "output_type": "stream",
          "name": "stderr",
          "text": [
            "100%|███████████████████████████████████████████████████████████████| 10/10 [00:35<00:00,  3.57s/it]\n"
          ]
        },
        {
          "output_type": "stream",
          "name": "stdout",
          "text": [
            "Round 12 training accuracy: 0.766075\n",
            "Round 12 testing accuracy: 0.7538\n",
            "Round 13\n"
          ]
        },
        {
          "output_type": "stream",
          "name": "stderr",
          "text": [
            "100%|███████████████████████████████████████████████████████████████| 10/10 [00:35<00:00,  3.60s/it]\n"
          ]
        },
        {
          "output_type": "stream",
          "name": "stdout",
          "text": [
            "Round 13 training accuracy: 0.7806\n",
            "Round 13 testing accuracy: 0.7709\n",
            "Round 14\n"
          ]
        },
        {
          "output_type": "stream",
          "name": "stderr",
          "text": [
            "100%|███████████████████████████████████████████████████████████████| 10/10 [00:35<00:00,  3.56s/it]\n"
          ]
        },
        {
          "output_type": "stream",
          "name": "stdout",
          "text": [
            "Round 14 training accuracy: 0.779525\n",
            "Round 14 testing accuracy: 0.7726\n",
            "Round 15\n"
          ]
        },
        {
          "output_type": "stream",
          "name": "stderr",
          "text": [
            "100%|███████████████████████████████████████████████████████████████| 10/10 [00:36<00:00,  3.66s/it]\n"
          ]
        },
        {
          "output_type": "stream",
          "name": "stdout",
          "text": [
            "Round 15 training accuracy: 0.79155\n",
            "Round 15 testing accuracy: 0.78\n"
          ]
        }
      ]
    },
    {
      "cell_type": "markdown",
      "source": [
        "##**Comparing results**"
      ],
      "metadata": {
        "id": "a7q77GvmFx5w"
      }
    },
    {
      "cell_type": "code",
      "source": [
        "plt.plot(Test_acc_uncertainty_based_Least_Confidence_Sampling, label = 'Least Confidence Sampling')\n",
        "plt.plot(Test_acc_uncertainty_based_Entropy_Sampling, label = 'Entropy-based Sampling')\n",
        "plt.plot(Test_acc_uncertainty_based_Margin_Sampling, label = 'Margin-based Sampling')\n",
        "plt.legend()\n",
        "plt.show()"
      ],
      "metadata": {
        "colab": {
          "base_uri": "https://localhost:8080/",
          "height": 430
        },
        "id": "gj0eLWcfFsBL",
        "outputId": "31611008-b551-4831-adb0-41dee02be945"
      },
      "execution_count": 18,
      "outputs": [
        {
          "output_type": "display_data",
          "data": {
            "text/plain": [
              "<Figure size 640x480 with 1 Axes>"
            ],
            "image/png": "[encoded data removed]"
          },
          "metadata": {}
        }
      ]
    }
  ]
}